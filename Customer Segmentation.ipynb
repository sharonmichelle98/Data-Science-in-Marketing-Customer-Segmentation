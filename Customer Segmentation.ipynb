{
 "cells": [
  {
   "cell_type": "code",
   "execution_count": 1,
   "metadata": {},
   "outputs": [
    {
     "data": {
      "text/html": [
       "<table>\n",
       "<thead><tr><th scope=col>Customer_ID</th><th scope=col>Nama.Pelanggan</th><th scope=col>Jenis.Kelamin</th><th scope=col>Umur</th><th scope=col>Profesi</th><th scope=col>Tipe.Residen</th><th scope=col>NilaiBelanjaSetahun</th></tr></thead>\n",
       "<tbody>\n",
       "\t<tr><td>CUST-001           </td><td>Budi Anggara       </td><td>Pria               </td><td>58                 </td><td>Wiraswasta         </td><td>Sector             </td><td> 9497927           </td></tr>\n",
       "\t<tr><td>CUST-002           </td><td>Shirley Ratuwati   </td><td>Wanita             </td><td>14                 </td><td>Pelajar            </td><td>Cluster            </td><td> 2722700           </td></tr>\n",
       "\t<tr><td>CUST-003           </td><td>Agus Cahyono       </td><td>Pria               </td><td>48                 </td><td>Professional       </td><td>Cluster            </td><td> 5286429           </td></tr>\n",
       "\t<tr><td>CUST-004           </td><td>Antonius Winarta   </td><td>Pria               </td><td>53                 </td><td>Professional       </td><td>Cluster            </td><td> 5204498           </td></tr>\n",
       "\t<tr><td>CUST-005           </td><td>Ibu Sri Wahyuni, IR</td><td>Wanita             </td><td>41                 </td><td>Wiraswasta         </td><td>Cluster            </td><td>10615206           </td></tr>\n",
       "\t<tr><td>CUST-006           </td><td>Rosalina Kurnia    </td><td>Wanita             </td><td>24                 </td><td>Professional       </td><td>Cluster            </td><td> 5215541           </td></tr>\n",
       "</tbody>\n",
       "</table>\n"
      ],
      "text/latex": [
       "\\begin{tabular}{r|lllllll}\n",
       " Customer\\_ID & Nama.Pelanggan & Jenis.Kelamin & Umur & Profesi & Tipe.Residen & NilaiBelanjaSetahun\\\\\n",
       "\\hline\n",
       "\t CUST-001            & Budi Anggara        & Pria                & 58                  & Wiraswasta          & Sector              &  9497927           \\\\\n",
       "\t CUST-002            & Shirley Ratuwati    & Wanita              & 14                  & Pelajar             & Cluster             &  2722700           \\\\\n",
       "\t CUST-003            & Agus Cahyono        & Pria                & 48                  & Professional        & Cluster             &  5286429           \\\\\n",
       "\t CUST-004            & Antonius Winarta    & Pria                & 53                  & Professional        & Cluster             &  5204498           \\\\\n",
       "\t CUST-005            & Ibu Sri Wahyuni, IR & Wanita              & 41                  & Wiraswasta          & Cluster             & 10615206           \\\\\n",
       "\t CUST-006            & Rosalina Kurnia     & Wanita              & 24                  & Professional        & Cluster             &  5215541           \\\\\n",
       "\\end{tabular}\n"
      ],
      "text/markdown": [
       "\n",
       "| Customer_ID | Nama.Pelanggan | Jenis.Kelamin | Umur | Profesi | Tipe.Residen | NilaiBelanjaSetahun |\n",
       "|---|---|---|---|---|---|---|\n",
       "| CUST-001            | Budi Anggara        | Pria                | 58                  | Wiraswasta          | Sector              |  9497927            |\n",
       "| CUST-002            | Shirley Ratuwati    | Wanita              | 14                  | Pelajar             | Cluster             |  2722700            |\n",
       "| CUST-003            | Agus Cahyono        | Pria                | 48                  | Professional        | Cluster             |  5286429            |\n",
       "| CUST-004            | Antonius Winarta    | Pria                | 53                  | Professional        | Cluster             |  5204498            |\n",
       "| CUST-005            | Ibu Sri Wahyuni, IR | Wanita              | 41                  | Wiraswasta          | Cluster             | 10615206            |\n",
       "| CUST-006            | Rosalina Kurnia     | Wanita              | 24                  | Professional        | Cluster             |  5215541            |\n",
       "\n"
      ],
      "text/plain": [
       "  Customer_ID Nama.Pelanggan      Jenis.Kelamin Umur Profesi      Tipe.Residen\n",
       "1 CUST-001    Budi Anggara        Pria          58   Wiraswasta   Sector      \n",
       "2 CUST-002    Shirley Ratuwati    Wanita        14   Pelajar      Cluster     \n",
       "3 CUST-003    Agus Cahyono        Pria          48   Professional Cluster     \n",
       "4 CUST-004    Antonius Winarta    Pria          53   Professional Cluster     \n",
       "5 CUST-005    Ibu Sri Wahyuni, IR Wanita        41   Wiraswasta   Cluster     \n",
       "6 CUST-006    Rosalina Kurnia     Wanita        24   Professional Cluster     \n",
       "  NilaiBelanjaSetahun\n",
       "1  9497927           \n",
       "2  2722700           \n",
       "3  5286429           \n",
       "4  5204498           \n",
       "5 10615206           \n",
       "6  5215541           "
      ]
     },
     "metadata": {},
     "output_type": "display_data"
    },
    {
     "data": {
      "text/html": [
       "<table>\n",
       "<thead><tr><th scope=col>Jenis.Kelamin</th><th scope=col>Umur</th><th scope=col>Profesi</th><th scope=col>Tipe.Residen</th></tr></thead>\n",
       "<tbody>\n",
       "\t<tr><td>Pria            </td><td>58              </td><td>Wiraswasta      </td><td>Sector          </td></tr>\n",
       "\t<tr><td>Wanita          </td><td>14              </td><td>Pelajar         </td><td>Cluster         </td></tr>\n",
       "\t<tr><td>Pria            </td><td>48              </td><td>Professional    </td><td>Cluster         </td></tr>\n",
       "\t<tr><td>Pria            </td><td>53              </td><td>Professional    </td><td>Cluster         </td></tr>\n",
       "\t<tr><td>Wanita          </td><td>41              </td><td>Wiraswasta      </td><td>Cluster         </td></tr>\n",
       "\t<tr><td>Wanita          </td><td>24              </td><td>Professional    </td><td>Cluster         </td></tr>\n",
       "\t<tr><td>Pria            </td><td>64              </td><td>Wiraswasta      </td><td>Sector          </td></tr>\n",
       "\t<tr><td>Pria            </td><td>52              </td><td>Professional    </td><td>Cluster         </td></tr>\n",
       "\t<tr><td>Wanita          </td><td>29              </td><td>Professional    </td><td>Sector          </td></tr>\n",
       "\t<tr><td>Pria            </td><td>33              </td><td>Professional    </td><td>Cluster         </td></tr>\n",
       "\t<tr><td>Wanita          </td><td>50              </td><td>Professional    </td><td>Sector          </td></tr>\n",
       "\t<tr><td>Wanita          </td><td>49              </td><td>Professional    </td><td>Sector          </td></tr>\n",
       "\t<tr><td>Wanita          </td><td>64              </td><td>Wiraswasta      </td><td>Cluster         </td></tr>\n",
       "\t<tr><td>Pria            </td><td>60              </td><td>Wiraswasta      </td><td>Cluster         </td></tr>\n",
       "\t<tr><td>Wanita          </td><td>20              </td><td>Wiraswasta      </td><td>Cluster         </td></tr>\n",
       "\t<tr><td>Pria            </td><td>35              </td><td>Professional    </td><td>Cluster         </td></tr>\n",
       "\t<tr><td>Wanita          </td><td>32              </td><td>Ibu Rumah Tangga</td><td>Cluster         </td></tr>\n",
       "\t<tr><td>Wanita          </td><td>63              </td><td>Ibu Rumah Tangga</td><td>Cluster         </td></tr>\n",
       "\t<tr><td>Wanita          </td><td>32              </td><td>Wiraswasta      </td><td>Cluster         </td></tr>\n",
       "\t<tr><td>Wanita          </td><td>16              </td><td>Pelajar         </td><td>Sector          </td></tr>\n",
       "\t<tr><td>Wanita          </td><td>38              </td><td>Wiraswasta      </td><td>Cluster         </td></tr>\n",
       "\t<tr><td>Wanita          </td><td>52              </td><td>Professional    </td><td>Cluster         </td></tr>\n",
       "\t<tr><td>Pria            </td><td>34              </td><td>Professional    </td><td>Cluster         </td></tr>\n",
       "\t<tr><td>Wanita          </td><td>39              </td><td>Wiraswasta      </td><td>Cluster         </td></tr>\n",
       "\t<tr><td>Wanita          </td><td>29              </td><td>Wiraswasta      </td><td>Sector          </td></tr>\n",
       "\t<tr><td>Wanita          </td><td>55              </td><td>Professional    </td><td>Cluster         </td></tr>\n",
       "\t<tr><td>Wanita          </td><td>35              </td><td>Wiraswasta      </td><td>Cluster         </td></tr>\n",
       "\t<tr><td>Wanita          </td><td>40              </td><td>Ibu Rumah Tangga</td><td>Cluster         </td></tr>\n",
       "\t<tr><td>Wanita          </td><td>56              </td><td>Professional    </td><td>Cluster         </td></tr>\n",
       "\t<tr><td>Wanita          </td><td>46              </td><td>Ibu Rumah Tangga</td><td>Sector          </td></tr>\n",
       "\t<tr><td>Wanita          </td><td>19              </td><td>Mahasiswa       </td><td>Cluster         </td></tr>\n",
       "\t<tr><td>Wanita          </td><td>47              </td><td>Wiraswasta      </td><td>Sector          </td></tr>\n",
       "\t<tr><td>Wanita          </td><td>19              </td><td>Mahasiswa       </td><td>Cluster         </td></tr>\n",
       "\t<tr><td>Wanita          </td><td>21              </td><td>Wiraswasta      </td><td>Sector          </td></tr>\n",
       "\t<tr><td>Wanita          </td><td>39              </td><td>Professional    </td><td>Sector          </td></tr>\n",
       "\t<tr><td>Wanita          </td><td>30              </td><td>Wiraswasta      </td><td>Cluster         </td></tr>\n",
       "\t<tr><td>Wanita          </td><td>25              </td><td>Professional    </td><td>Sector          </td></tr>\n",
       "\t<tr><td>Wanita          </td><td>46              </td><td>Wiraswasta      </td><td>Sector          </td></tr>\n",
       "\t<tr><td>Wanita          </td><td>20              </td><td>Professional    </td><td>Cluster         </td></tr>\n",
       "\t<tr><td>Wanita          </td><td>14              </td><td>Pelajar         </td><td>Sector          </td></tr>\n",
       "\t<tr><td>Wanita          </td><td>24              </td><td>Ibu Rumah Tangga</td><td>Cluster         </td></tr>\n",
       "\t<tr><td>Wanita          </td><td>26              </td><td>Wiraswasta      </td><td>Cluster         </td></tr>\n",
       "\t<tr><td>Wanita          </td><td>31              </td><td>Professional    </td><td>Cluster         </td></tr>\n",
       "\t<tr><td>Wanita          </td><td>18              </td><td>Wiraswasta      </td><td>Cluster         </td></tr>\n",
       "\t<tr><td>Wanita          </td><td>22              </td><td>Professional    </td><td>Cluster         </td></tr>\n",
       "\t<tr><td>Wanita          </td><td>25              </td><td>Wiraswasta      </td><td>Sector          </td></tr>\n",
       "\t<tr><td>Wanita          </td><td>55              </td><td>Ibu Rumah Tangga</td><td>Cluster         </td></tr>\n",
       "\t<tr><td>Wanita          </td><td>45              </td><td>Wiraswasta      </td><td>Sector          </td></tr>\n",
       "\t<tr><td>Wanita          </td><td>33              </td><td>Ibu Rumah Tangga</td><td>Sector          </td></tr>\n",
       "\t<tr><td>Wanita          </td><td>55              </td><td>Wiraswasta      </td><td>Sector          </td></tr>\n",
       "</tbody>\n",
       "</table>\n"
      ],
      "text/latex": [
       "\\begin{tabular}{r|llll}\n",
       " Jenis.Kelamin & Umur & Profesi & Tipe.Residen\\\\\n",
       "\\hline\n",
       "\t Pria             & 58               & Wiraswasta       & Sector          \\\\\n",
       "\t Wanita           & 14               & Pelajar          & Cluster         \\\\\n",
       "\t Pria             & 48               & Professional     & Cluster         \\\\\n",
       "\t Pria             & 53               & Professional     & Cluster         \\\\\n",
       "\t Wanita           & 41               & Wiraswasta       & Cluster         \\\\\n",
       "\t Wanita           & 24               & Professional     & Cluster         \\\\\n",
       "\t Pria             & 64               & Wiraswasta       & Sector          \\\\\n",
       "\t Pria             & 52               & Professional     & Cluster         \\\\\n",
       "\t Wanita           & 29               & Professional     & Sector          \\\\\n",
       "\t Pria             & 33               & Professional     & Cluster         \\\\\n",
       "\t Wanita           & 50               & Professional     & Sector          \\\\\n",
       "\t Wanita           & 49               & Professional     & Sector          \\\\\n",
       "\t Wanita           & 64               & Wiraswasta       & Cluster         \\\\\n",
       "\t Pria             & 60               & Wiraswasta       & Cluster         \\\\\n",
       "\t Wanita           & 20               & Wiraswasta       & Cluster         \\\\\n",
       "\t Pria             & 35               & Professional     & Cluster         \\\\\n",
       "\t Wanita           & 32               & Ibu Rumah Tangga & Cluster         \\\\\n",
       "\t Wanita           & 63               & Ibu Rumah Tangga & Cluster         \\\\\n",
       "\t Wanita           & 32               & Wiraswasta       & Cluster         \\\\\n",
       "\t Wanita           & 16               & Pelajar          & Sector          \\\\\n",
       "\t Wanita           & 38               & Wiraswasta       & Cluster         \\\\\n",
       "\t Wanita           & 52               & Professional     & Cluster         \\\\\n",
       "\t Pria             & 34               & Professional     & Cluster         \\\\\n",
       "\t Wanita           & 39               & Wiraswasta       & Cluster         \\\\\n",
       "\t Wanita           & 29               & Wiraswasta       & Sector          \\\\\n",
       "\t Wanita           & 55               & Professional     & Cluster         \\\\\n",
       "\t Wanita           & 35               & Wiraswasta       & Cluster         \\\\\n",
       "\t Wanita           & 40               & Ibu Rumah Tangga & Cluster         \\\\\n",
       "\t Wanita           & 56               & Professional     & Cluster         \\\\\n",
       "\t Wanita           & 46               & Ibu Rumah Tangga & Sector          \\\\\n",
       "\t Wanita           & 19               & Mahasiswa        & Cluster         \\\\\n",
       "\t Wanita           & 47               & Wiraswasta       & Sector          \\\\\n",
       "\t Wanita           & 19               & Mahasiswa        & Cluster         \\\\\n",
       "\t Wanita           & 21               & Wiraswasta       & Sector          \\\\\n",
       "\t Wanita           & 39               & Professional     & Sector          \\\\\n",
       "\t Wanita           & 30               & Wiraswasta       & Cluster         \\\\\n",
       "\t Wanita           & 25               & Professional     & Sector          \\\\\n",
       "\t Wanita           & 46               & Wiraswasta       & Sector          \\\\\n",
       "\t Wanita           & 20               & Professional     & Cluster         \\\\\n",
       "\t Wanita           & 14               & Pelajar          & Sector          \\\\\n",
       "\t Wanita           & 24               & Ibu Rumah Tangga & Cluster         \\\\\n",
       "\t Wanita           & 26               & Wiraswasta       & Cluster         \\\\\n",
       "\t Wanita           & 31               & Professional     & Cluster         \\\\\n",
       "\t Wanita           & 18               & Wiraswasta       & Cluster         \\\\\n",
       "\t Wanita           & 22               & Professional     & Cluster         \\\\\n",
       "\t Wanita           & 25               & Wiraswasta       & Sector          \\\\\n",
       "\t Wanita           & 55               & Ibu Rumah Tangga & Cluster         \\\\\n",
       "\t Wanita           & 45               & Wiraswasta       & Sector          \\\\\n",
       "\t Wanita           & 33               & Ibu Rumah Tangga & Sector          \\\\\n",
       "\t Wanita           & 55               & Wiraswasta       & Sector          \\\\\n",
       "\\end{tabular}\n"
      ],
      "text/markdown": [
       "\n",
       "| Jenis.Kelamin | Umur | Profesi | Tipe.Residen |\n",
       "|---|---|---|---|\n",
       "| Pria             | 58               | Wiraswasta       | Sector           |\n",
       "| Wanita           | 14               | Pelajar          | Cluster          |\n",
       "| Pria             | 48               | Professional     | Cluster          |\n",
       "| Pria             | 53               | Professional     | Cluster          |\n",
       "| Wanita           | 41               | Wiraswasta       | Cluster          |\n",
       "| Wanita           | 24               | Professional     | Cluster          |\n",
       "| Pria             | 64               | Wiraswasta       | Sector           |\n",
       "| Pria             | 52               | Professional     | Cluster          |\n",
       "| Wanita           | 29               | Professional     | Sector           |\n",
       "| Pria             | 33               | Professional     | Cluster          |\n",
       "| Wanita           | 50               | Professional     | Sector           |\n",
       "| Wanita           | 49               | Professional     | Sector           |\n",
       "| Wanita           | 64               | Wiraswasta       | Cluster          |\n",
       "| Pria             | 60               | Wiraswasta       | Cluster          |\n",
       "| Wanita           | 20               | Wiraswasta       | Cluster          |\n",
       "| Pria             | 35               | Professional     | Cluster          |\n",
       "| Wanita           | 32               | Ibu Rumah Tangga | Cluster          |\n",
       "| Wanita           | 63               | Ibu Rumah Tangga | Cluster          |\n",
       "| Wanita           | 32               | Wiraswasta       | Cluster          |\n",
       "| Wanita           | 16               | Pelajar          | Sector           |\n",
       "| Wanita           | 38               | Wiraswasta       | Cluster          |\n",
       "| Wanita           | 52               | Professional     | Cluster          |\n",
       "| Pria             | 34               | Professional     | Cluster          |\n",
       "| Wanita           | 39               | Wiraswasta       | Cluster          |\n",
       "| Wanita           | 29               | Wiraswasta       | Sector           |\n",
       "| Wanita           | 55               | Professional     | Cluster          |\n",
       "| Wanita           | 35               | Wiraswasta       | Cluster          |\n",
       "| Wanita           | 40               | Ibu Rumah Tangga | Cluster          |\n",
       "| Wanita           | 56               | Professional     | Cluster          |\n",
       "| Wanita           | 46               | Ibu Rumah Tangga | Sector           |\n",
       "| Wanita           | 19               | Mahasiswa        | Cluster          |\n",
       "| Wanita           | 47               | Wiraswasta       | Sector           |\n",
       "| Wanita           | 19               | Mahasiswa        | Cluster          |\n",
       "| Wanita           | 21               | Wiraswasta       | Sector           |\n",
       "| Wanita           | 39               | Professional     | Sector           |\n",
       "| Wanita           | 30               | Wiraswasta       | Cluster          |\n",
       "| Wanita           | 25               | Professional     | Sector           |\n",
       "| Wanita           | 46               | Wiraswasta       | Sector           |\n",
       "| Wanita           | 20               | Professional     | Cluster          |\n",
       "| Wanita           | 14               | Pelajar          | Sector           |\n",
       "| Wanita           | 24               | Ibu Rumah Tangga | Cluster          |\n",
       "| Wanita           | 26               | Wiraswasta       | Cluster          |\n",
       "| Wanita           | 31               | Professional     | Cluster          |\n",
       "| Wanita           | 18               | Wiraswasta       | Cluster          |\n",
       "| Wanita           | 22               | Professional     | Cluster          |\n",
       "| Wanita           | 25               | Wiraswasta       | Sector           |\n",
       "| Wanita           | 55               | Ibu Rumah Tangga | Cluster          |\n",
       "| Wanita           | 45               | Wiraswasta       | Sector           |\n",
       "| Wanita           | 33               | Ibu Rumah Tangga | Sector           |\n",
       "| Wanita           | 55               | Wiraswasta       | Sector           |\n",
       "\n"
      ],
      "text/plain": [
       "   Jenis.Kelamin Umur Profesi          Tipe.Residen\n",
       "1  Pria          58   Wiraswasta       Sector      \n",
       "2  Wanita        14   Pelajar          Cluster     \n",
       "3  Pria          48   Professional     Cluster     \n",
       "4  Pria          53   Professional     Cluster     \n",
       "5  Wanita        41   Wiraswasta       Cluster     \n",
       "6  Wanita        24   Professional     Cluster     \n",
       "7  Pria          64   Wiraswasta       Sector      \n",
       "8  Pria          52   Professional     Cluster     \n",
       "9  Wanita        29   Professional     Sector      \n",
       "10 Pria          33   Professional     Cluster     \n",
       "11 Wanita        50   Professional     Sector      \n",
       "12 Wanita        49   Professional     Sector      \n",
       "13 Wanita        64   Wiraswasta       Cluster     \n",
       "14 Pria          60   Wiraswasta       Cluster     \n",
       "15 Wanita        20   Wiraswasta       Cluster     \n",
       "16 Pria          35   Professional     Cluster     \n",
       "17 Wanita        32   Ibu Rumah Tangga Cluster     \n",
       "18 Wanita        63   Ibu Rumah Tangga Cluster     \n",
       "19 Wanita        32   Wiraswasta       Cluster     \n",
       "20 Wanita        16   Pelajar          Sector      \n",
       "21 Wanita        38   Wiraswasta       Cluster     \n",
       "22 Wanita        52   Professional     Cluster     \n",
       "23 Pria          34   Professional     Cluster     \n",
       "24 Wanita        39   Wiraswasta       Cluster     \n",
       "25 Wanita        29   Wiraswasta       Sector      \n",
       "26 Wanita        55   Professional     Cluster     \n",
       "27 Wanita        35   Wiraswasta       Cluster     \n",
       "28 Wanita        40   Ibu Rumah Tangga Cluster     \n",
       "29 Wanita        56   Professional     Cluster     \n",
       "30 Wanita        46   Ibu Rumah Tangga Sector      \n",
       "31 Wanita        19   Mahasiswa        Cluster     \n",
       "32 Wanita        47   Wiraswasta       Sector      \n",
       "33 Wanita        19   Mahasiswa        Cluster     \n",
       "34 Wanita        21   Wiraswasta       Sector      \n",
       "35 Wanita        39   Professional     Sector      \n",
       "36 Wanita        30   Wiraswasta       Cluster     \n",
       "37 Wanita        25   Professional     Sector      \n",
       "38 Wanita        46   Wiraswasta       Sector      \n",
       "39 Wanita        20   Professional     Cluster     \n",
       "40 Wanita        14   Pelajar          Sector      \n",
       "41 Wanita        24   Ibu Rumah Tangga Cluster     \n",
       "42 Wanita        26   Wiraswasta       Cluster     \n",
       "43 Wanita        31   Professional     Cluster     \n",
       "44 Wanita        18   Wiraswasta       Cluster     \n",
       "45 Wanita        22   Professional     Cluster     \n",
       "46 Wanita        25   Wiraswasta       Sector      \n",
       "47 Wanita        55   Ibu Rumah Tangga Cluster     \n",
       "48 Wanita        45   Wiraswasta       Sector      \n",
       "49 Wanita        33   Ibu Rumah Tangga Sector      \n",
       "50 Wanita        55   Wiraswasta       Sector      "
      ]
     },
     "metadata": {},
     "output_type": "display_data"
    }
   ],
   "source": [
    "#Pertama-tama, sebelum menggunakan algoritma apapun\n",
    "##pastikan kamu sudah melakukan pembacaan dan mengenal datanya dulu ya :)\n",
    "##lalu, kita akan mengekstrak kolom Jenis.Kelamin, Umur, Profesi, dan Tipe.Residen \n",
    "pelanggan <- read.csv(\"customer_segments.txt\", sep=\"\\t\")\n",
    "head(pelanggan)\n",
    "pelanggan[c(\"Jenis.Kelamin\", \"Umur\", \"Profesi\", \"Tipe.Residen\")]"
   ]
  },
  {
   "cell_type": "code",
   "execution_count": 2,
   "metadata": {},
   "outputs": [
    {
     "data": {
      "text/html": [
       "<table>\n",
       "<thead><tr><th scope=col>Jenis.Kelamin</th><th scope=col>Umur</th><th scope=col>Profesi</th></tr></thead>\n",
       "<tbody>\n",
       "\t<tr><td>Pria            </td><td>58              </td><td>Wiraswasta      </td></tr>\n",
       "\t<tr><td>Wanita          </td><td>14              </td><td>Pelajar         </td></tr>\n",
       "\t<tr><td>Pria            </td><td>48              </td><td>Professional    </td></tr>\n",
       "\t<tr><td>Pria            </td><td>53              </td><td>Professional    </td></tr>\n",
       "\t<tr><td>Wanita          </td><td>41              </td><td>Wiraswasta      </td></tr>\n",
       "\t<tr><td>Wanita          </td><td>24              </td><td>Professional    </td></tr>\n",
       "\t<tr><td>Pria            </td><td>64              </td><td>Wiraswasta      </td></tr>\n",
       "\t<tr><td>Pria            </td><td>52              </td><td>Professional    </td></tr>\n",
       "\t<tr><td>Wanita          </td><td>29              </td><td>Professional    </td></tr>\n",
       "\t<tr><td>Pria            </td><td>33              </td><td>Professional    </td></tr>\n",
       "\t<tr><td>Wanita          </td><td>50              </td><td>Professional    </td></tr>\n",
       "\t<tr><td>Wanita          </td><td>49              </td><td>Professional    </td></tr>\n",
       "\t<tr><td>Wanita          </td><td>64              </td><td>Wiraswasta      </td></tr>\n",
       "\t<tr><td>Pria            </td><td>60              </td><td>Wiraswasta      </td></tr>\n",
       "\t<tr><td>Wanita          </td><td>20              </td><td>Wiraswasta      </td></tr>\n",
       "\t<tr><td>Pria            </td><td>35              </td><td>Professional    </td></tr>\n",
       "\t<tr><td>Wanita          </td><td>32              </td><td>Ibu Rumah Tangga</td></tr>\n",
       "\t<tr><td>Wanita          </td><td>63              </td><td>Ibu Rumah Tangga</td></tr>\n",
       "\t<tr><td>Wanita          </td><td>32              </td><td>Wiraswasta      </td></tr>\n",
       "\t<tr><td>Wanita          </td><td>16              </td><td>Pelajar         </td></tr>\n",
       "\t<tr><td>Wanita          </td><td>38              </td><td>Wiraswasta      </td></tr>\n",
       "\t<tr><td>Wanita          </td><td>52              </td><td>Professional    </td></tr>\n",
       "\t<tr><td>Pria            </td><td>34              </td><td>Professional    </td></tr>\n",
       "\t<tr><td>Wanita          </td><td>39              </td><td>Wiraswasta      </td></tr>\n",
       "\t<tr><td>Wanita          </td><td>29              </td><td>Wiraswasta      </td></tr>\n",
       "\t<tr><td>Wanita          </td><td>55              </td><td>Professional    </td></tr>\n",
       "\t<tr><td>Wanita          </td><td>35              </td><td>Wiraswasta      </td></tr>\n",
       "\t<tr><td>Wanita          </td><td>40              </td><td>Ibu Rumah Tangga</td></tr>\n",
       "\t<tr><td>Wanita          </td><td>56              </td><td>Professional    </td></tr>\n",
       "\t<tr><td>Wanita          </td><td>46              </td><td>Ibu Rumah Tangga</td></tr>\n",
       "\t<tr><td>Wanita          </td><td>19              </td><td>Mahasiswa       </td></tr>\n",
       "\t<tr><td>Wanita          </td><td>47              </td><td>Wiraswasta      </td></tr>\n",
       "\t<tr><td>Wanita          </td><td>19              </td><td>Mahasiswa       </td></tr>\n",
       "\t<tr><td>Wanita          </td><td>21              </td><td>Wiraswasta      </td></tr>\n",
       "\t<tr><td>Wanita          </td><td>39              </td><td>Professional    </td></tr>\n",
       "\t<tr><td>Wanita          </td><td>30              </td><td>Wiraswasta      </td></tr>\n",
       "\t<tr><td>Wanita          </td><td>25              </td><td>Professional    </td></tr>\n",
       "\t<tr><td>Wanita          </td><td>46              </td><td>Wiraswasta      </td></tr>\n",
       "\t<tr><td>Wanita          </td><td>20              </td><td>Professional    </td></tr>\n",
       "\t<tr><td>Wanita          </td><td>14              </td><td>Pelajar         </td></tr>\n",
       "\t<tr><td>Wanita          </td><td>24              </td><td>Ibu Rumah Tangga</td></tr>\n",
       "\t<tr><td>Wanita          </td><td>26              </td><td>Wiraswasta      </td></tr>\n",
       "\t<tr><td>Wanita          </td><td>31              </td><td>Professional    </td></tr>\n",
       "\t<tr><td>Wanita          </td><td>18              </td><td>Wiraswasta      </td></tr>\n",
       "\t<tr><td>Wanita          </td><td>22              </td><td>Professional    </td></tr>\n",
       "\t<tr><td>Wanita          </td><td>25              </td><td>Wiraswasta      </td></tr>\n",
       "\t<tr><td>Wanita          </td><td>55              </td><td>Ibu Rumah Tangga</td></tr>\n",
       "\t<tr><td>Wanita          </td><td>45              </td><td>Wiraswasta      </td></tr>\n",
       "\t<tr><td>Wanita          </td><td>33              </td><td>Ibu Rumah Tangga</td></tr>\n",
       "\t<tr><td>Wanita          </td><td>55              </td><td>Wiraswasta      </td></tr>\n",
       "</tbody>\n",
       "</table>\n"
      ],
      "text/latex": [
       "\\begin{tabular}{r|lll}\n",
       " Jenis.Kelamin & Umur & Profesi\\\\\n",
       "\\hline\n",
       "\t Pria             & 58               & Wiraswasta      \\\\\n",
       "\t Wanita           & 14               & Pelajar         \\\\\n",
       "\t Pria             & 48               & Professional    \\\\\n",
       "\t Pria             & 53               & Professional    \\\\\n",
       "\t Wanita           & 41               & Wiraswasta      \\\\\n",
       "\t Wanita           & 24               & Professional    \\\\\n",
       "\t Pria             & 64               & Wiraswasta      \\\\\n",
       "\t Pria             & 52               & Professional    \\\\\n",
       "\t Wanita           & 29               & Professional    \\\\\n",
       "\t Pria             & 33               & Professional    \\\\\n",
       "\t Wanita           & 50               & Professional    \\\\\n",
       "\t Wanita           & 49               & Professional    \\\\\n",
       "\t Wanita           & 64               & Wiraswasta      \\\\\n",
       "\t Pria             & 60               & Wiraswasta      \\\\\n",
       "\t Wanita           & 20               & Wiraswasta      \\\\\n",
       "\t Pria             & 35               & Professional    \\\\\n",
       "\t Wanita           & 32               & Ibu Rumah Tangga\\\\\n",
       "\t Wanita           & 63               & Ibu Rumah Tangga\\\\\n",
       "\t Wanita           & 32               & Wiraswasta      \\\\\n",
       "\t Wanita           & 16               & Pelajar         \\\\\n",
       "\t Wanita           & 38               & Wiraswasta      \\\\\n",
       "\t Wanita           & 52               & Professional    \\\\\n",
       "\t Pria             & 34               & Professional    \\\\\n",
       "\t Wanita           & 39               & Wiraswasta      \\\\\n",
       "\t Wanita           & 29               & Wiraswasta      \\\\\n",
       "\t Wanita           & 55               & Professional    \\\\\n",
       "\t Wanita           & 35               & Wiraswasta      \\\\\n",
       "\t Wanita           & 40               & Ibu Rumah Tangga\\\\\n",
       "\t Wanita           & 56               & Professional    \\\\\n",
       "\t Wanita           & 46               & Ibu Rumah Tangga\\\\\n",
       "\t Wanita           & 19               & Mahasiswa       \\\\\n",
       "\t Wanita           & 47               & Wiraswasta      \\\\\n",
       "\t Wanita           & 19               & Mahasiswa       \\\\\n",
       "\t Wanita           & 21               & Wiraswasta      \\\\\n",
       "\t Wanita           & 39               & Professional    \\\\\n",
       "\t Wanita           & 30               & Wiraswasta      \\\\\n",
       "\t Wanita           & 25               & Professional    \\\\\n",
       "\t Wanita           & 46               & Wiraswasta      \\\\\n",
       "\t Wanita           & 20               & Professional    \\\\\n",
       "\t Wanita           & 14               & Pelajar         \\\\\n",
       "\t Wanita           & 24               & Ibu Rumah Tangga\\\\\n",
       "\t Wanita           & 26               & Wiraswasta      \\\\\n",
       "\t Wanita           & 31               & Professional    \\\\\n",
       "\t Wanita           & 18               & Wiraswasta      \\\\\n",
       "\t Wanita           & 22               & Professional    \\\\\n",
       "\t Wanita           & 25               & Wiraswasta      \\\\\n",
       "\t Wanita           & 55               & Ibu Rumah Tangga\\\\\n",
       "\t Wanita           & 45               & Wiraswasta      \\\\\n",
       "\t Wanita           & 33               & Ibu Rumah Tangga\\\\\n",
       "\t Wanita           & 55               & Wiraswasta      \\\\\n",
       "\\end{tabular}\n"
      ],
      "text/markdown": [
       "\n",
       "| Jenis.Kelamin | Umur | Profesi |\n",
       "|---|---|---|\n",
       "| Pria             | 58               | Wiraswasta       |\n",
       "| Wanita           | 14               | Pelajar          |\n",
       "| Pria             | 48               | Professional     |\n",
       "| Pria             | 53               | Professional     |\n",
       "| Wanita           | 41               | Wiraswasta       |\n",
       "| Wanita           | 24               | Professional     |\n",
       "| Pria             | 64               | Wiraswasta       |\n",
       "| Pria             | 52               | Professional     |\n",
       "| Wanita           | 29               | Professional     |\n",
       "| Pria             | 33               | Professional     |\n",
       "| Wanita           | 50               | Professional     |\n",
       "| Wanita           | 49               | Professional     |\n",
       "| Wanita           | 64               | Wiraswasta       |\n",
       "| Pria             | 60               | Wiraswasta       |\n",
       "| Wanita           | 20               | Wiraswasta       |\n",
       "| Pria             | 35               | Professional     |\n",
       "| Wanita           | 32               | Ibu Rumah Tangga |\n",
       "| Wanita           | 63               | Ibu Rumah Tangga |\n",
       "| Wanita           | 32               | Wiraswasta       |\n",
       "| Wanita           | 16               | Pelajar          |\n",
       "| Wanita           | 38               | Wiraswasta       |\n",
       "| Wanita           | 52               | Professional     |\n",
       "| Pria             | 34               | Professional     |\n",
       "| Wanita           | 39               | Wiraswasta       |\n",
       "| Wanita           | 29               | Wiraswasta       |\n",
       "| Wanita           | 55               | Professional     |\n",
       "| Wanita           | 35               | Wiraswasta       |\n",
       "| Wanita           | 40               | Ibu Rumah Tangga |\n",
       "| Wanita           | 56               | Professional     |\n",
       "| Wanita           | 46               | Ibu Rumah Tangga |\n",
       "| Wanita           | 19               | Mahasiswa        |\n",
       "| Wanita           | 47               | Wiraswasta       |\n",
       "| Wanita           | 19               | Mahasiswa        |\n",
       "| Wanita           | 21               | Wiraswasta       |\n",
       "| Wanita           | 39               | Professional     |\n",
       "| Wanita           | 30               | Wiraswasta       |\n",
       "| Wanita           | 25               | Professional     |\n",
       "| Wanita           | 46               | Wiraswasta       |\n",
       "| Wanita           | 20               | Professional     |\n",
       "| Wanita           | 14               | Pelajar          |\n",
       "| Wanita           | 24               | Ibu Rumah Tangga |\n",
       "| Wanita           | 26               | Wiraswasta       |\n",
       "| Wanita           | 31               | Professional     |\n",
       "| Wanita           | 18               | Wiraswasta       |\n",
       "| Wanita           | 22               | Professional     |\n",
       "| Wanita           | 25               | Wiraswasta       |\n",
       "| Wanita           | 55               | Ibu Rumah Tangga |\n",
       "| Wanita           | 45               | Wiraswasta       |\n",
       "| Wanita           | 33               | Ibu Rumah Tangga |\n",
       "| Wanita           | 55               | Wiraswasta       |\n",
       "\n"
      ],
      "text/plain": [
       "   Jenis.Kelamin Umur Profesi         \n",
       "1  Pria          58   Wiraswasta      \n",
       "2  Wanita        14   Pelajar         \n",
       "3  Pria          48   Professional    \n",
       "4  Pria          53   Professional    \n",
       "5  Wanita        41   Wiraswasta      \n",
       "6  Wanita        24   Professional    \n",
       "7  Pria          64   Wiraswasta      \n",
       "8  Pria          52   Professional    \n",
       "9  Wanita        29   Professional    \n",
       "10 Pria          33   Professional    \n",
       "11 Wanita        50   Professional    \n",
       "12 Wanita        49   Professional    \n",
       "13 Wanita        64   Wiraswasta      \n",
       "14 Pria          60   Wiraswasta      \n",
       "15 Wanita        20   Wiraswasta      \n",
       "16 Pria          35   Professional    \n",
       "17 Wanita        32   Ibu Rumah Tangga\n",
       "18 Wanita        63   Ibu Rumah Tangga\n",
       "19 Wanita        32   Wiraswasta      \n",
       "20 Wanita        16   Pelajar         \n",
       "21 Wanita        38   Wiraswasta      \n",
       "22 Wanita        52   Professional    \n",
       "23 Pria          34   Professional    \n",
       "24 Wanita        39   Wiraswasta      \n",
       "25 Wanita        29   Wiraswasta      \n",
       "26 Wanita        55   Professional    \n",
       "27 Wanita        35   Wiraswasta      \n",
       "28 Wanita        40   Ibu Rumah Tangga\n",
       "29 Wanita        56   Professional    \n",
       "30 Wanita        46   Ibu Rumah Tangga\n",
       "31 Wanita        19   Mahasiswa       \n",
       "32 Wanita        47   Wiraswasta      \n",
       "33 Wanita        19   Mahasiswa       \n",
       "34 Wanita        21   Wiraswasta      \n",
       "35 Wanita        39   Professional    \n",
       "36 Wanita        30   Wiraswasta      \n",
       "37 Wanita        25   Professional    \n",
       "38 Wanita        46   Wiraswasta      \n",
       "39 Wanita        20   Professional    \n",
       "40 Wanita        14   Pelajar         \n",
       "41 Wanita        24   Ibu Rumah Tangga\n",
       "42 Wanita        26   Wiraswasta      \n",
       "43 Wanita        31   Professional    \n",
       "44 Wanita        18   Wiraswasta      \n",
       "45 Wanita        22   Professional    \n",
       "46 Wanita        25   Wiraswasta      \n",
       "47 Wanita        55   Ibu Rumah Tangga\n",
       "48 Wanita        45   Wiraswasta      \n",
       "49 Wanita        33   Ibu Rumah Tangga\n",
       "50 Wanita        55   Wiraswasta      "
      ]
     },
     "metadata": {},
     "output_type": "display_data"
    }
   ],
   "source": [
    "#Karena tadi kita sudah mencoba menampilkan kolom-kolom tersebut dengan vector secara langsung\n",
    "##sekarang, kita akan mencoba menyimpan vector tersebut ke dalam sebuah variabel\n",
    "##lalu, kita akan menampilkan dengan variabel itu\n",
    "field_yang_digunakan <- c(\"Jenis.Kelamin\", \"Umur\", \"Profesi\")\n",
    "pelanggan[field_yang_digunakan]"
   ]
  },
  {
   "cell_type": "code",
   "execution_count": 3,
   "metadata": {},
   "outputs": [
    {
     "data": {
      "text/html": [
       "<table>\n",
       "<thead><tr><th scope=col>Jenis.Kelamin</th><th scope=col>Profesi</th><th scope=col>Tipe.Residen</th></tr></thead>\n",
       "<tbody>\n",
       "\t<tr><td>Pria        </td><td>Wiraswasta  </td><td>Sector      </td></tr>\n",
       "\t<tr><td>Wanita      </td><td>Pelajar     </td><td>Cluster     </td></tr>\n",
       "\t<tr><td>Pria        </td><td>Professional</td><td>Cluster     </td></tr>\n",
       "\t<tr><td>Pria        </td><td>Professional</td><td>Cluster     </td></tr>\n",
       "\t<tr><td>Wanita      </td><td>Wiraswasta  </td><td>Cluster     </td></tr>\n",
       "\t<tr><td>Wanita      </td><td>Professional</td><td>Cluster     </td></tr>\n",
       "</tbody>\n",
       "</table>\n"
      ],
      "text/latex": [
       "\\begin{tabular}{r|lll}\n",
       " Jenis.Kelamin & Profesi & Tipe.Residen\\\\\n",
       "\\hline\n",
       "\t Pria         & Wiraswasta   & Sector      \\\\\n",
       "\t Wanita       & Pelajar      & Cluster     \\\\\n",
       "\t Pria         & Professional & Cluster     \\\\\n",
       "\t Pria         & Professional & Cluster     \\\\\n",
       "\t Wanita       & Wiraswasta   & Cluster     \\\\\n",
       "\t Wanita       & Professional & Cluster     \\\\\n",
       "\\end{tabular}\n"
      ],
      "text/markdown": [
       "\n",
       "| Jenis.Kelamin | Profesi | Tipe.Residen |\n",
       "|---|---|---|\n",
       "| Pria         | Wiraswasta   | Sector       |\n",
       "| Wanita       | Pelajar      | Cluster      |\n",
       "| Pria         | Professional | Cluster      |\n",
       "| Pria         | Professional | Cluster      |\n",
       "| Wanita       | Wiraswasta   | Cluster      |\n",
       "| Wanita       | Professional | Cluster      |\n",
       "\n"
      ],
      "text/plain": [
       "  Jenis.Kelamin Profesi      Tipe.Residen\n",
       "1 Pria          Wiraswasta   Sector      \n",
       "2 Wanita        Pelajar      Cluster     \n",
       "3 Pria          Professional Cluster     \n",
       "4 Pria          Professional Cluster     \n",
       "5 Wanita        Wiraswasta   Cluster     \n",
       "6 Wanita        Professional Cluster     "
      ]
     },
     "metadata": {},
     "output_type": "display_data"
    },
    {
     "data": {
      "text/html": [
       "<table>\n",
       "<thead><tr><th scope=col>Jenis.Kelamin</th><th scope=col>Profesi</th><th scope=col>Tipe.Residen</th></tr></thead>\n",
       "<tbody>\n",
       "\t<tr><td>1</td><td>5</td><td>2</td></tr>\n",
       "\t<tr><td>2</td><td>3</td><td>1</td></tr>\n",
       "\t<tr><td>1</td><td>4</td><td>1</td></tr>\n",
       "\t<tr><td>1</td><td>4</td><td>1</td></tr>\n",
       "\t<tr><td>2</td><td>5</td><td>1</td></tr>\n",
       "\t<tr><td>2</td><td>4</td><td>1</td></tr>\n",
       "</tbody>\n",
       "</table>\n"
      ],
      "text/latex": [
       "\\begin{tabular}{lll}\n",
       " Jenis.Kelamin & Profesi & Tipe.Residen\\\\\n",
       "\\hline\n",
       "\t 1 & 5 & 2\\\\\n",
       "\t 2 & 3 & 1\\\\\n",
       "\t 1 & 4 & 1\\\\\n",
       "\t 1 & 4 & 1\\\\\n",
       "\t 2 & 5 & 1\\\\\n",
       "\t 2 & 4 & 1\\\\\n",
       "\\end{tabular}\n"
      ],
      "text/markdown": [
       "\n",
       "| Jenis.Kelamin | Profesi | Tipe.Residen |\n",
       "|---|---|---|\n",
       "| 1 | 5 | 2 |\n",
       "| 2 | 3 | 1 |\n",
       "| 1 | 4 | 1 |\n",
       "| 1 | 4 | 1 |\n",
       "| 2 | 5 | 1 |\n",
       "| 2 | 4 | 1 |\n",
       "\n"
      ],
      "text/plain": [
       "     Jenis.Kelamin Profesi Tipe.Residen\n",
       "[1,] 1             5       2           \n",
       "[2,] 2             3       1           \n",
       "[3,] 1             4       1           \n",
       "[4,] 1             4       1           \n",
       "[5,] 2             5       1           \n",
       "[6,] 2             4       1           "
      ]
     },
     "metadata": {},
     "output_type": "display_data"
    }
   ],
   "source": [
    "#Tadi, kita sudah tahu bahwa ketiga kolom yang akan kita gunakan adalah tipe kategorik\n",
    "##untuk itu, kita perlu mengonversinya menjadi numerik\n",
    "##lalu memasukkannya ke dalam variabel pelanggan_matrix\n",
    "head(pelanggan[c(\"Jenis.Kelamin\", \"Profesi\", \"Tipe.Residen\")])\n",
    "pelanggan_matrix <- data.matrix(pelanggan[c(\"Jenis.Kelamin\", \"Profesi\", \"Tipe.Residen\")])\n",
    "head(pelanggan_matrix)"
   ]
  },
  {
   "cell_type": "code",
   "execution_count": 4,
   "metadata": {},
   "outputs": [
    {
     "data": {
      "text/html": [
       "<table>\n",
       "<thead><tr><th scope=col>Customer_ID</th><th scope=col>Nama.Pelanggan</th><th scope=col>Jenis.Kelamin</th><th scope=col>Umur</th><th scope=col>Profesi</th><th scope=col>Tipe.Residen</th><th scope=col>NilaiBelanjaSetahun</th><th scope=col>Jenis.Kelamin.1</th><th scope=col>Profesi.1</th><th scope=col>Tipe.Residen.1</th></tr></thead>\n",
       "<tbody>\n",
       "\t<tr><td>CUST-001           </td><td>Budi Anggara       </td><td>Pria               </td><td>58                 </td><td>Wiraswasta         </td><td>Sector             </td><td> 9497927           </td><td>1                  </td><td>5                  </td><td>2                  </td></tr>\n",
       "\t<tr><td>CUST-002           </td><td>Shirley Ratuwati   </td><td>Wanita             </td><td>14                 </td><td>Pelajar            </td><td>Cluster            </td><td> 2722700           </td><td>2                  </td><td>3                  </td><td>1                  </td></tr>\n",
       "\t<tr><td>CUST-003           </td><td>Agus Cahyono       </td><td>Pria               </td><td>48                 </td><td>Professional       </td><td>Cluster            </td><td> 5286429           </td><td>1                  </td><td>4                  </td><td>1                  </td></tr>\n",
       "\t<tr><td>CUST-004           </td><td>Antonius Winarta   </td><td>Pria               </td><td>53                 </td><td>Professional       </td><td>Cluster            </td><td> 5204498           </td><td>1                  </td><td>4                  </td><td>1                  </td></tr>\n",
       "\t<tr><td>CUST-005           </td><td>Ibu Sri Wahyuni, IR</td><td>Wanita             </td><td>41                 </td><td>Wiraswasta         </td><td>Cluster            </td><td>10615206           </td><td>2                  </td><td>5                  </td><td>1                  </td></tr>\n",
       "\t<tr><td>CUST-006           </td><td>Rosalina Kurnia    </td><td>Wanita             </td><td>24                 </td><td>Professional       </td><td>Cluster            </td><td> 5215541           </td><td>2                  </td><td>4                  </td><td>1                  </td></tr>\n",
       "</tbody>\n",
       "</table>\n"
      ],
      "text/latex": [
       "\\begin{tabular}{r|llllllllll}\n",
       " Customer\\_ID & Nama.Pelanggan & Jenis.Kelamin & Umur & Profesi & Tipe.Residen & NilaiBelanjaSetahun & Jenis.Kelamin.1 & Profesi.1 & Tipe.Residen.1\\\\\n",
       "\\hline\n",
       "\t CUST-001            & Budi Anggara        & Pria                & 58                  & Wiraswasta          & Sector              &  9497927            & 1                   & 5                   & 2                  \\\\\n",
       "\t CUST-002            & Shirley Ratuwati    & Wanita              & 14                  & Pelajar             & Cluster             &  2722700            & 2                   & 3                   & 1                  \\\\\n",
       "\t CUST-003            & Agus Cahyono        & Pria                & 48                  & Professional        & Cluster             &  5286429            & 1                   & 4                   & 1                  \\\\\n",
       "\t CUST-004            & Antonius Winarta    & Pria                & 53                  & Professional        & Cluster             &  5204498            & 1                   & 4                   & 1                  \\\\\n",
       "\t CUST-005            & Ibu Sri Wahyuni, IR & Wanita              & 41                  & Wiraswasta          & Cluster             & 10615206            & 2                   & 5                   & 1                  \\\\\n",
       "\t CUST-006            & Rosalina Kurnia     & Wanita              & 24                  & Professional        & Cluster             &  5215541            & 2                   & 4                   & 1                  \\\\\n",
       "\\end{tabular}\n"
      ],
      "text/markdown": [
       "\n",
       "| Customer_ID | Nama.Pelanggan | Jenis.Kelamin | Umur | Profesi | Tipe.Residen | NilaiBelanjaSetahun | Jenis.Kelamin.1 | Profesi.1 | Tipe.Residen.1 |\n",
       "|---|---|---|---|---|---|---|---|---|---|\n",
       "| CUST-001            | Budi Anggara        | Pria                | 58                  | Wiraswasta          | Sector              |  9497927            | 1                   | 5                   | 2                   |\n",
       "| CUST-002            | Shirley Ratuwati    | Wanita              | 14                  | Pelajar             | Cluster             |  2722700            | 2                   | 3                   | 1                   |\n",
       "| CUST-003            | Agus Cahyono        | Pria                | 48                  | Professional        | Cluster             |  5286429            | 1                   | 4                   | 1                   |\n",
       "| CUST-004            | Antonius Winarta    | Pria                | 53                  | Professional        | Cluster             |  5204498            | 1                   | 4                   | 1                   |\n",
       "| CUST-005            | Ibu Sri Wahyuni, IR | Wanita              | 41                  | Wiraswasta          | Cluster             | 10615206            | 2                   | 5                   | 1                   |\n",
       "| CUST-006            | Rosalina Kurnia     | Wanita              | 24                  | Professional        | Cluster             |  5215541            | 2                   | 4                   | 1                   |\n",
       "\n"
      ],
      "text/plain": [
       "  Customer_ID Nama.Pelanggan      Jenis.Kelamin Umur Profesi      Tipe.Residen\n",
       "1 CUST-001    Budi Anggara        Pria          58   Wiraswasta   Sector      \n",
       "2 CUST-002    Shirley Ratuwati    Wanita        14   Pelajar      Cluster     \n",
       "3 CUST-003    Agus Cahyono        Pria          48   Professional Cluster     \n",
       "4 CUST-004    Antonius Winarta    Pria          53   Professional Cluster     \n",
       "5 CUST-005    Ibu Sri Wahyuni, IR Wanita        41   Wiraswasta   Cluster     \n",
       "6 CUST-006    Rosalina Kurnia     Wanita        24   Professional Cluster     \n",
       "  NilaiBelanjaSetahun Jenis.Kelamin.1 Profesi.1 Tipe.Residen.1\n",
       "1  9497927            1               5         2             \n",
       "2  2722700            2               3         1             \n",
       "3  5286429            1               4         1             \n",
       "4  5204498            1               4         1             \n",
       "5 10615206            2               5         1             \n",
       "6  5215541            2               4         1             "
      ]
     },
     "metadata": {},
     "output_type": "display_data"
    }
   ],
   "source": [
    "#Supaya perbedaannya lebih jelas, kita akan gabungkan hasil konversi ini\n",
    "##dengan data asalnya\n",
    "pelanggan <- data.frame(pelanggan, pelanggan_matrix)\n",
    "head(pelanggan)"
   ]
  },
  {
   "cell_type": "code",
   "execution_count": 5,
   "metadata": {},
   "outputs": [
    {
     "data": {
      "text/html": [
       "<table>\n",
       "<thead><tr><th scope=col>Customer_ID</th><th scope=col>Nama.Pelanggan</th><th scope=col>Jenis.Kelamin</th><th scope=col>Umur</th><th scope=col>Profesi</th><th scope=col>Tipe.Residen</th><th scope=col>NilaiBelanjaSetahun</th><th scope=col>Jenis.Kelamin.1</th><th scope=col>Profesi.1</th><th scope=col>Tipe.Residen.1</th></tr></thead>\n",
       "<tbody>\n",
       "\t<tr><td>CUST-001           </td><td>Budi Anggara       </td><td>Pria               </td><td>58                 </td><td>Wiraswasta         </td><td>Sector             </td><td> 9.497927          </td><td>1                  </td><td>5                  </td><td>2                  </td></tr>\n",
       "\t<tr><td>CUST-002           </td><td>Shirley Ratuwati   </td><td>Wanita             </td><td>14                 </td><td>Pelajar            </td><td>Cluster            </td><td> 2.722700          </td><td>2                  </td><td>3                  </td><td>1                  </td></tr>\n",
       "\t<tr><td>CUST-003           </td><td>Agus Cahyono       </td><td>Pria               </td><td>48                 </td><td>Professional       </td><td>Cluster            </td><td> 5.286429          </td><td>1                  </td><td>4                  </td><td>1                  </td></tr>\n",
       "\t<tr><td>CUST-004           </td><td>Antonius Winarta   </td><td>Pria               </td><td>53                 </td><td>Professional       </td><td>Cluster            </td><td> 5.204498          </td><td>1                  </td><td>4                  </td><td>1                  </td></tr>\n",
       "\t<tr><td>CUST-005           </td><td>Ibu Sri Wahyuni, IR</td><td>Wanita             </td><td>41                 </td><td>Wiraswasta         </td><td>Cluster            </td><td>10.615206          </td><td>2                  </td><td>5                  </td><td>1                  </td></tr>\n",
       "\t<tr><td>CUST-006           </td><td>Rosalina Kurnia    </td><td>Wanita             </td><td>24                 </td><td>Professional       </td><td>Cluster            </td><td> 5.215541          </td><td>2                  </td><td>4                  </td><td>1                  </td></tr>\n",
       "</tbody>\n",
       "</table>\n"
      ],
      "text/latex": [
       "\\begin{tabular}{r|llllllllll}\n",
       " Customer\\_ID & Nama.Pelanggan & Jenis.Kelamin & Umur & Profesi & Tipe.Residen & NilaiBelanjaSetahun & Jenis.Kelamin.1 & Profesi.1 & Tipe.Residen.1\\\\\n",
       "\\hline\n",
       "\t CUST-001            & Budi Anggara        & Pria                & 58                  & Wiraswasta          & Sector              &  9.497927           & 1                   & 5                   & 2                  \\\\\n",
       "\t CUST-002            & Shirley Ratuwati    & Wanita              & 14                  & Pelajar             & Cluster             &  2.722700           & 2                   & 3                   & 1                  \\\\\n",
       "\t CUST-003            & Agus Cahyono        & Pria                & 48                  & Professional        & Cluster             &  5.286429           & 1                   & 4                   & 1                  \\\\\n",
       "\t CUST-004            & Antonius Winarta    & Pria                & 53                  & Professional        & Cluster             &  5.204498           & 1                   & 4                   & 1                  \\\\\n",
       "\t CUST-005            & Ibu Sri Wahyuni, IR & Wanita              & 41                  & Wiraswasta          & Cluster             & 10.615206           & 2                   & 5                   & 1                  \\\\\n",
       "\t CUST-006            & Rosalina Kurnia     & Wanita              & 24                  & Professional        & Cluster             &  5.215541           & 2                   & 4                   & 1                  \\\\\n",
       "\\end{tabular}\n"
      ],
      "text/markdown": [
       "\n",
       "| Customer_ID | Nama.Pelanggan | Jenis.Kelamin | Umur | Profesi | Tipe.Residen | NilaiBelanjaSetahun | Jenis.Kelamin.1 | Profesi.1 | Tipe.Residen.1 |\n",
       "|---|---|---|---|---|---|---|---|---|---|\n",
       "| CUST-001            | Budi Anggara        | Pria                | 58                  | Wiraswasta          | Sector              |  9.497927           | 1                   | 5                   | 2                   |\n",
       "| CUST-002            | Shirley Ratuwati    | Wanita              | 14                  | Pelajar             | Cluster             |  2.722700           | 2                   | 3                   | 1                   |\n",
       "| CUST-003            | Agus Cahyono        | Pria                | 48                  | Professional        | Cluster             |  5.286429           | 1                   | 4                   | 1                   |\n",
       "| CUST-004            | Antonius Winarta    | Pria                | 53                  | Professional        | Cluster             |  5.204498           | 1                   | 4                   | 1                   |\n",
       "| CUST-005            | Ibu Sri Wahyuni, IR | Wanita              | 41                  | Wiraswasta          | Cluster             | 10.615206           | 2                   | 5                   | 1                   |\n",
       "| CUST-006            | Rosalina Kurnia     | Wanita              | 24                  | Professional        | Cluster             |  5.215541           | 2                   | 4                   | 1                   |\n",
       "\n"
      ],
      "text/plain": [
       "  Customer_ID Nama.Pelanggan      Jenis.Kelamin Umur Profesi      Tipe.Residen\n",
       "1 CUST-001    Budi Anggara        Pria          58   Wiraswasta   Sector      \n",
       "2 CUST-002    Shirley Ratuwati    Wanita        14   Pelajar      Cluster     \n",
       "3 CUST-003    Agus Cahyono        Pria          48   Professional Cluster     \n",
       "4 CUST-004    Antonius Winarta    Pria          53   Professional Cluster     \n",
       "5 CUST-005    Ibu Sri Wahyuni, IR Wanita        41   Wiraswasta   Cluster     \n",
       "6 CUST-006    Rosalina Kurnia     Wanita        24   Professional Cluster     \n",
       "  NilaiBelanjaSetahun Jenis.Kelamin.1 Profesi.1 Tipe.Residen.1\n",
       "1  9.497927           1               5         2             \n",
       "2  2.722700           2               3         1             \n",
       "3  5.286429           1               4         1             \n",
       "4  5.204498           1               4         1             \n",
       "5 10.615206           2               5         1             \n",
       "6  5.215541           2               4         1             "
      ]
     },
     "metadata": {},
     "output_type": "display_data"
    }
   ],
   "source": [
    "#Karena NilaiBelanjaSetahun itu satuannya besar dari yang lainnya\n",
    "##maka, normalisasikan nilainya :)\n",
    "pelanggan$NilaiBelanjaSetahun <- pelanggan$NilaiBelanjaSetahun / 1000000\n",
    "head(pelanggan)"
   ]
  },
  {
   "cell_type": "code",
   "execution_count": 6,
   "metadata": {},
   "outputs": [
    {
     "data": {
      "text/html": [
       "<table>\n",
       "<thead><tr><th scope=col>Profesi</th><th scope=col>Profesi.1</th></tr></thead>\n",
       "<tbody>\n",
       "\t<tr><td>Wiraswasta      </td><td>5               </td></tr>\n",
       "\t<tr><td>Pelajar         </td><td>3               </td></tr>\n",
       "\t<tr><td>Professional    </td><td>4               </td></tr>\n",
       "\t<tr><td>Professional    </td><td>4               </td></tr>\n",
       "\t<tr><td>Wiraswasta      </td><td>5               </td></tr>\n",
       "\t<tr><td>Professional    </td><td>4               </td></tr>\n",
       "\t<tr><td>Wiraswasta      </td><td>5               </td></tr>\n",
       "\t<tr><td>Professional    </td><td>4               </td></tr>\n",
       "\t<tr><td>Professional    </td><td>4               </td></tr>\n",
       "\t<tr><td>Professional    </td><td>4               </td></tr>\n",
       "\t<tr><td>Professional    </td><td>4               </td></tr>\n",
       "\t<tr><td>Professional    </td><td>4               </td></tr>\n",
       "\t<tr><td>Wiraswasta      </td><td>5               </td></tr>\n",
       "\t<tr><td>Wiraswasta      </td><td>5               </td></tr>\n",
       "\t<tr><td>Wiraswasta      </td><td>5               </td></tr>\n",
       "\t<tr><td>Professional    </td><td>4               </td></tr>\n",
       "\t<tr><td>Ibu Rumah Tangga</td><td>1               </td></tr>\n",
       "\t<tr><td>Ibu Rumah Tangga</td><td>1               </td></tr>\n",
       "\t<tr><td>Wiraswasta      </td><td>5               </td></tr>\n",
       "\t<tr><td>Pelajar         </td><td>3               </td></tr>\n",
       "\t<tr><td>Wiraswasta      </td><td>5               </td></tr>\n",
       "\t<tr><td>Professional    </td><td>4               </td></tr>\n",
       "\t<tr><td>Professional    </td><td>4               </td></tr>\n",
       "\t<tr><td>Wiraswasta      </td><td>5               </td></tr>\n",
       "\t<tr><td>Wiraswasta      </td><td>5               </td></tr>\n",
       "\t<tr><td>Professional    </td><td>4               </td></tr>\n",
       "\t<tr><td>Wiraswasta      </td><td>5               </td></tr>\n",
       "\t<tr><td>Ibu Rumah Tangga</td><td>1               </td></tr>\n",
       "\t<tr><td>Professional    </td><td>4               </td></tr>\n",
       "\t<tr><td>Ibu Rumah Tangga</td><td>1               </td></tr>\n",
       "\t<tr><td>Mahasiswa       </td><td>2               </td></tr>\n",
       "\t<tr><td>Wiraswasta      </td><td>5               </td></tr>\n",
       "\t<tr><td>Mahasiswa       </td><td>2               </td></tr>\n",
       "\t<tr><td>Wiraswasta      </td><td>5               </td></tr>\n",
       "\t<tr><td>Professional    </td><td>4               </td></tr>\n",
       "\t<tr><td>Wiraswasta      </td><td>5               </td></tr>\n",
       "\t<tr><td>Professional    </td><td>4               </td></tr>\n",
       "\t<tr><td>Wiraswasta      </td><td>5               </td></tr>\n",
       "\t<tr><td>Professional    </td><td>4               </td></tr>\n",
       "\t<tr><td>Pelajar         </td><td>3               </td></tr>\n",
       "\t<tr><td>Ibu Rumah Tangga</td><td>1               </td></tr>\n",
       "\t<tr><td>Wiraswasta      </td><td>5               </td></tr>\n",
       "\t<tr><td>Professional    </td><td>4               </td></tr>\n",
       "\t<tr><td>Wiraswasta      </td><td>5               </td></tr>\n",
       "\t<tr><td>Professional    </td><td>4               </td></tr>\n",
       "\t<tr><td>Wiraswasta      </td><td>5               </td></tr>\n",
       "\t<tr><td>Ibu Rumah Tangga</td><td>1               </td></tr>\n",
       "\t<tr><td>Wiraswasta      </td><td>5               </td></tr>\n",
       "\t<tr><td>Ibu Rumah Tangga</td><td>1               </td></tr>\n",
       "\t<tr><td>Wiraswasta      </td><td>5               </td></tr>\n",
       "</tbody>\n",
       "</table>\n"
      ],
      "text/latex": [
       "\\begin{tabular}{r|ll}\n",
       " Profesi & Profesi.1\\\\\n",
       "\\hline\n",
       "\t Wiraswasta       & 5               \\\\\n",
       "\t Pelajar          & 3               \\\\\n",
       "\t Professional     & 4               \\\\\n",
       "\t Professional     & 4               \\\\\n",
       "\t Wiraswasta       & 5               \\\\\n",
       "\t Professional     & 4               \\\\\n",
       "\t Wiraswasta       & 5               \\\\\n",
       "\t Professional     & 4               \\\\\n",
       "\t Professional     & 4               \\\\\n",
       "\t Professional     & 4               \\\\\n",
       "\t Professional     & 4               \\\\\n",
       "\t Professional     & 4               \\\\\n",
       "\t Wiraswasta       & 5               \\\\\n",
       "\t Wiraswasta       & 5               \\\\\n",
       "\t Wiraswasta       & 5               \\\\\n",
       "\t Professional     & 4               \\\\\n",
       "\t Ibu Rumah Tangga & 1               \\\\\n",
       "\t Ibu Rumah Tangga & 1               \\\\\n",
       "\t Wiraswasta       & 5               \\\\\n",
       "\t Pelajar          & 3               \\\\\n",
       "\t Wiraswasta       & 5               \\\\\n",
       "\t Professional     & 4               \\\\\n",
       "\t Professional     & 4               \\\\\n",
       "\t Wiraswasta       & 5               \\\\\n",
       "\t Wiraswasta       & 5               \\\\\n",
       "\t Professional     & 4               \\\\\n",
       "\t Wiraswasta       & 5               \\\\\n",
       "\t Ibu Rumah Tangga & 1               \\\\\n",
       "\t Professional     & 4               \\\\\n",
       "\t Ibu Rumah Tangga & 1               \\\\\n",
       "\t Mahasiswa        & 2               \\\\\n",
       "\t Wiraswasta       & 5               \\\\\n",
       "\t Mahasiswa        & 2               \\\\\n",
       "\t Wiraswasta       & 5               \\\\\n",
       "\t Professional     & 4               \\\\\n",
       "\t Wiraswasta       & 5               \\\\\n",
       "\t Professional     & 4               \\\\\n",
       "\t Wiraswasta       & 5               \\\\\n",
       "\t Professional     & 4               \\\\\n",
       "\t Pelajar          & 3               \\\\\n",
       "\t Ibu Rumah Tangga & 1               \\\\\n",
       "\t Wiraswasta       & 5               \\\\\n",
       "\t Professional     & 4               \\\\\n",
       "\t Wiraswasta       & 5               \\\\\n",
       "\t Professional     & 4               \\\\\n",
       "\t Wiraswasta       & 5               \\\\\n",
       "\t Ibu Rumah Tangga & 1               \\\\\n",
       "\t Wiraswasta       & 5               \\\\\n",
       "\t Ibu Rumah Tangga & 1               \\\\\n",
       "\t Wiraswasta       & 5               \\\\\n",
       "\\end{tabular}\n"
      ],
      "text/markdown": [
       "\n",
       "| Profesi | Profesi.1 |\n",
       "|---|---|\n",
       "| Wiraswasta       | 5                |\n",
       "| Pelajar          | 3                |\n",
       "| Professional     | 4                |\n",
       "| Professional     | 4                |\n",
       "| Wiraswasta       | 5                |\n",
       "| Professional     | 4                |\n",
       "| Wiraswasta       | 5                |\n",
       "| Professional     | 4                |\n",
       "| Professional     | 4                |\n",
       "| Professional     | 4                |\n",
       "| Professional     | 4                |\n",
       "| Professional     | 4                |\n",
       "| Wiraswasta       | 5                |\n",
       "| Wiraswasta       | 5                |\n",
       "| Wiraswasta       | 5                |\n",
       "| Professional     | 4                |\n",
       "| Ibu Rumah Tangga | 1                |\n",
       "| Ibu Rumah Tangga | 1                |\n",
       "| Wiraswasta       | 5                |\n",
       "| Pelajar          | 3                |\n",
       "| Wiraswasta       | 5                |\n",
       "| Professional     | 4                |\n",
       "| Professional     | 4                |\n",
       "| Wiraswasta       | 5                |\n",
       "| Wiraswasta       | 5                |\n",
       "| Professional     | 4                |\n",
       "| Wiraswasta       | 5                |\n",
       "| Ibu Rumah Tangga | 1                |\n",
       "| Professional     | 4                |\n",
       "| Ibu Rumah Tangga | 1                |\n",
       "| Mahasiswa        | 2                |\n",
       "| Wiraswasta       | 5                |\n",
       "| Mahasiswa        | 2                |\n",
       "| Wiraswasta       | 5                |\n",
       "| Professional     | 4                |\n",
       "| Wiraswasta       | 5                |\n",
       "| Professional     | 4                |\n",
       "| Wiraswasta       | 5                |\n",
       "| Professional     | 4                |\n",
       "| Pelajar          | 3                |\n",
       "| Ibu Rumah Tangga | 1                |\n",
       "| Wiraswasta       | 5                |\n",
       "| Professional     | 4                |\n",
       "| Wiraswasta       | 5                |\n",
       "| Professional     | 4                |\n",
       "| Wiraswasta       | 5                |\n",
       "| Ibu Rumah Tangga | 1                |\n",
       "| Wiraswasta       | 5                |\n",
       "| Ibu Rumah Tangga | 1                |\n",
       "| Wiraswasta       | 5                |\n",
       "\n"
      ],
      "text/plain": [
       "   Profesi          Profesi.1\n",
       "1  Wiraswasta       5        \n",
       "2  Pelajar          3        \n",
       "3  Professional     4        \n",
       "4  Professional     4        \n",
       "5  Wiraswasta       5        \n",
       "6  Professional     4        \n",
       "7  Wiraswasta       5        \n",
       "8  Professional     4        \n",
       "9  Professional     4        \n",
       "10 Professional     4        \n",
       "11 Professional     4        \n",
       "12 Professional     4        \n",
       "13 Wiraswasta       5        \n",
       "14 Wiraswasta       5        \n",
       "15 Wiraswasta       5        \n",
       "16 Professional     4        \n",
       "17 Ibu Rumah Tangga 1        \n",
       "18 Ibu Rumah Tangga 1        \n",
       "19 Wiraswasta       5        \n",
       "20 Pelajar          3        \n",
       "21 Wiraswasta       5        \n",
       "22 Professional     4        \n",
       "23 Professional     4        \n",
       "24 Wiraswasta       5        \n",
       "25 Wiraswasta       5        \n",
       "26 Professional     4        \n",
       "27 Wiraswasta       5        \n",
       "28 Ibu Rumah Tangga 1        \n",
       "29 Professional     4        \n",
       "30 Ibu Rumah Tangga 1        \n",
       "31 Mahasiswa        2        \n",
       "32 Wiraswasta       5        \n",
       "33 Mahasiswa        2        \n",
       "34 Wiraswasta       5        \n",
       "35 Professional     4        \n",
       "36 Wiraswasta       5        \n",
       "37 Professional     4        \n",
       "38 Wiraswasta       5        \n",
       "39 Professional     4        \n",
       "40 Pelajar          3        \n",
       "41 Ibu Rumah Tangga 1        \n",
       "42 Wiraswasta       5        \n",
       "43 Professional     4        \n",
       "44 Wiraswasta       5        \n",
       "45 Professional     4        \n",
       "46 Wiraswasta       5        \n",
       "47 Ibu Rumah Tangga 1        \n",
       "48 Wiraswasta       5        \n",
       "49 Ibu Rumah Tangga 1        \n",
       "50 Wiraswasta       5        "
      ]
     },
     "metadata": {},
     "output_type": "display_data"
    },
    {
     "data": {
      "text/html": [
       "<table>\n",
       "<thead><tr><th></th><th scope=col>Profesi</th><th scope=col>Profesi.1</th></tr></thead>\n",
       "<tbody>\n",
       "\t<tr><th scope=row>1</th><td>Wiraswasta      </td><td>5               </td></tr>\n",
       "\t<tr><th scope=row>2</th><td>Pelajar         </td><td>3               </td></tr>\n",
       "\t<tr><th scope=row>3</th><td>Professional    </td><td>4               </td></tr>\n",
       "\t<tr><th scope=row>17</th><td>Ibu Rumah Tangga</td><td>1               </td></tr>\n",
       "\t<tr><th scope=row>31</th><td>Mahasiswa       </td><td>2               </td></tr>\n",
       "</tbody>\n",
       "</table>\n"
      ],
      "text/latex": [
       "\\begin{tabular}{r|ll}\n",
       "  & Profesi & Profesi.1\\\\\n",
       "\\hline\n",
       "\t1 & Wiraswasta       & 5               \\\\\n",
       "\t2 & Pelajar          & 3               \\\\\n",
       "\t3 & Professional     & 4               \\\\\n",
       "\t17 & Ibu Rumah Tangga & 1               \\\\\n",
       "\t31 & Mahasiswa        & 2               \\\\\n",
       "\\end{tabular}\n"
      ],
      "text/markdown": [
       "\n",
       "| <!--/--> | Profesi | Profesi.1 |\n",
       "|---|---|---|\n",
       "| 1 | Wiraswasta       | 5                |\n",
       "| 2 | Pelajar          | 3                |\n",
       "| 3 | Professional     | 4                |\n",
       "| 17 | Ibu Rumah Tangga | 1                |\n",
       "| 31 | Mahasiswa        | 2                |\n",
       "\n"
      ],
      "text/plain": [
       "   Profesi          Profesi.1\n",
       "1  Wiraswasta       5        \n",
       "2  Pelajar          3        \n",
       "3  Professional     4        \n",
       "17 Ibu Rumah Tangga 1        \n",
       "31 Mahasiswa        2        "
      ]
     },
     "metadata": {},
     "output_type": "display_data"
    },
    {
     "data": {
      "text/html": [
       "<table>\n",
       "<thead><tr><th scope=col>Jenis.Kelamin</th><th scope=col>Jenis.Kelamin.1</th></tr></thead>\n",
       "<tbody>\n",
       "\t<tr><td>Pria  </td><td>1     </td></tr>\n",
       "\t<tr><td>Wanita</td><td>2     </td></tr>\n",
       "</tbody>\n",
       "</table>\n"
      ],
      "text/latex": [
       "\\begin{tabular}{r|ll}\n",
       " Jenis.Kelamin & Jenis.Kelamin.1\\\\\n",
       "\\hline\n",
       "\t Pria   & 1     \\\\\n",
       "\t Wanita & 2     \\\\\n",
       "\\end{tabular}\n"
      ],
      "text/markdown": [
       "\n",
       "| Jenis.Kelamin | Jenis.Kelamin.1 |\n",
       "|---|---|\n",
       "| Pria   | 1      |\n",
       "| Wanita | 2      |\n",
       "\n"
      ],
      "text/plain": [
       "  Jenis.Kelamin Jenis.Kelamin.1\n",
       "1 Pria          1              \n",
       "2 Wanita        2              "
      ]
     },
     "metadata": {},
     "output_type": "display_data"
    },
    {
     "data": {
      "text/html": [
       "<table>\n",
       "<thead><tr><th scope=col>Tipe.Residen</th><th scope=col>Tipe.Residen.1</th></tr></thead>\n",
       "<tbody>\n",
       "\t<tr><td>Sector </td><td>2      </td></tr>\n",
       "\t<tr><td>Cluster</td><td>1      </td></tr>\n",
       "</tbody>\n",
       "</table>\n"
      ],
      "text/latex": [
       "\\begin{tabular}{r|ll}\n",
       " Tipe.Residen & Tipe.Residen.1\\\\\n",
       "\\hline\n",
       "\t Sector  & 2      \\\\\n",
       "\t Cluster & 1      \\\\\n",
       "\\end{tabular}\n"
      ],
      "text/markdown": [
       "\n",
       "| Tipe.Residen | Tipe.Residen.1 |\n",
       "|---|---|\n",
       "| Sector  | 2       |\n",
       "| Cluster | 1       |\n",
       "\n"
      ],
      "text/plain": [
       "  Tipe.Residen Tipe.Residen.1\n",
       "1 Sector       2             \n",
       "2 Cluster      1             "
      ]
     },
     "metadata": {},
     "output_type": "display_data"
    }
   ],
   "source": [
    "#Jika kita melihat hasil konversi datanya dengan cara ini\n",
    "pelanggan[c(\"Profesi\", \"Profesi.1\")]\n",
    "#Supaya lebih jelas data kategoriknya dikonversi jadi apa\n",
    "##kita akan mencoba membuat data masternya\n",
    "Profesi <- unique(pelanggan[c(\"Profesi\", \"Profesi.1\")])\n",
    "Jenis.Kelamin <- unique(pelanggan[c(\"Jenis.Kelamin\", \"Jenis.Kelamin.1\")])\n",
    "Tipe.Residen <- unique(pelanggan[c(\"Tipe.Residen\", \"Tipe.Residen.1\")])\n",
    "Profesi\n",
    "Jenis.Kelamin\n",
    "Tipe.Residen"
   ]
  },
  {
   "cell_type": "code",
   "execution_count": 7,
   "metadata": {},
   "outputs": [
    {
     "data": {
      "text/plain": [
       "K-means clustering with 5 clusters of sizes 10, 9, 9, 12, 10\n",
       "\n",
       "Cluster means:\n",
       "      Umur Profesi.1\n",
       "1 48.80000  4.000000\n",
       "2 58.88889  3.888889\n",
       "3 27.00000  4.111111\n",
       "4 35.91667  3.666667\n",
       "5 18.30000  3.600000\n",
       "\n",
       "Clustering vector:\n",
       " [1] 2 5 1 1 4 3 2 1 3 4 1 1 2 2 5 4 4 2 4 5 4 1 4 4 3 2 4 4 2 1 5 1 5 5 4 3 3 1\n",
       "[39] 5 5 3 3 3 5 5 3 2 1 4 2\n",
       "\n",
       "Within cluster sum of squares by cluster:\n",
       "[1]  85.60000 147.77778  72.88889 149.58333  82.50000\n",
       " (between_SS / total_SS =  94.9 %)\n",
       "\n",
       "Available components:\n",
       "\n",
       "[1] \"cluster\"      \"centers\"      \"totss\"        \"withinss\"     \"tot.withinss\"\n",
       "[6] \"betweenss\"    \"size\"         \"iter\"         \"ifault\"      "
      ]
     },
     "metadata": {},
     "output_type": "display_data"
    }
   ],
   "source": [
    "#Setelah kita melakukan ETL, barulah kita mulai melakukan segmentasi terhadap customernya\n",
    "##segmentasi ini dilakukan berdasarkan umur dan profesi\n",
    "set.seed(100)\n",
    "#buat 5 cluster dengan 25 skenario random, lalu simpan haslnya di variabel segmentasi\n",
    "segmentasi <- kmeans(x=pelanggan[c(\"Umur\", \"Profesi.1\")], centers = 5, nstart = 25)\n",
    "#tampilkan hasil segmentasinya\n",
    "segmentasi"
   ]
  },
  {
   "cell_type": "code",
   "execution_count": 8,
   "metadata": {},
   "outputs": [
    {
     "data": {
      "text/html": [
       "<table>\n",
       "<thead><tr><th scope=col>Customer_ID</th><th scope=col>Nama.Pelanggan</th><th scope=col>Jenis.Kelamin</th><th scope=col>Umur</th><th scope=col>Profesi</th><th scope=col>Tipe.Residen</th><th scope=col>NilaiBelanjaSetahun</th><th scope=col>Jenis.Kelamin.1</th><th scope=col>Profesi.1</th><th scope=col>Tipe.Residen.1</th><th scope=col>cluster</th></tr></thead>\n",
       "<tbody>\n",
       "\t<tr><td>CUST-001           </td><td>Budi Anggara       </td><td>Pria               </td><td>58                 </td><td>Wiraswasta         </td><td>Sector             </td><td> 9.497927          </td><td>1                  </td><td>5                  </td><td>2                  </td><td>1                  </td></tr>\n",
       "\t<tr><td>CUST-002           </td><td>Shirley Ratuwati   </td><td>Wanita             </td><td>14                 </td><td>Pelajar            </td><td>Cluster            </td><td> 2.722700          </td><td>2                  </td><td>3                  </td><td>1                  </td><td>3                  </td></tr>\n",
       "\t<tr><td>CUST-003           </td><td>Agus Cahyono       </td><td>Pria               </td><td>48                 </td><td>Professional       </td><td>Cluster            </td><td> 5.286429          </td><td>1                  </td><td>4                  </td><td>1                  </td><td>5                  </td></tr>\n",
       "\t<tr><td>CUST-004           </td><td>Antonius Winarta   </td><td>Pria               </td><td>53                 </td><td>Professional       </td><td>Cluster            </td><td> 5.204498          </td><td>1                  </td><td>4                  </td><td>1                  </td><td>5                  </td></tr>\n",
       "\t<tr><td>CUST-005           </td><td>Ibu Sri Wahyuni, IR</td><td>Wanita             </td><td>41                 </td><td>Wiraswasta         </td><td>Cluster            </td><td>10.615206          </td><td>2                  </td><td>5                  </td><td>1                  </td><td>4                  </td></tr>\n",
       "\t<tr><td>CUST-006           </td><td>Rosalina Kurnia    </td><td>Wanita             </td><td>24                 </td><td>Professional       </td><td>Cluster            </td><td> 5.215541          </td><td>2                  </td><td>4                  </td><td>1                  </td><td>3                  </td></tr>\n",
       "</tbody>\n",
       "</table>\n"
      ],
      "text/latex": [
       "\\begin{tabular}{r|lllllllllll}\n",
       " Customer\\_ID & Nama.Pelanggan & Jenis.Kelamin & Umur & Profesi & Tipe.Residen & NilaiBelanjaSetahun & Jenis.Kelamin.1 & Profesi.1 & Tipe.Residen.1 & cluster\\\\\n",
       "\\hline\n",
       "\t CUST-001            & Budi Anggara        & Pria                & 58                  & Wiraswasta          & Sector              &  9.497927           & 1                   & 5                   & 2                   & 1                  \\\\\n",
       "\t CUST-002            & Shirley Ratuwati    & Wanita              & 14                  & Pelajar             & Cluster             &  2.722700           & 2                   & 3                   & 1                   & 3                  \\\\\n",
       "\t CUST-003            & Agus Cahyono        & Pria                & 48                  & Professional        & Cluster             &  5.286429           & 1                   & 4                   & 1                   & 5                  \\\\\n",
       "\t CUST-004            & Antonius Winarta    & Pria                & 53                  & Professional        & Cluster             &  5.204498           & 1                   & 4                   & 1                   & 5                  \\\\\n",
       "\t CUST-005            & Ibu Sri Wahyuni, IR & Wanita              & 41                  & Wiraswasta          & Cluster             & 10.615206           & 2                   & 5                   & 1                   & 4                  \\\\\n",
       "\t CUST-006            & Rosalina Kurnia     & Wanita              & 24                  & Professional        & Cluster             &  5.215541           & 2                   & 4                   & 1                   & 3                  \\\\\n",
       "\\end{tabular}\n"
      ],
      "text/markdown": [
       "\n",
       "| Customer_ID | Nama.Pelanggan | Jenis.Kelamin | Umur | Profesi | Tipe.Residen | NilaiBelanjaSetahun | Jenis.Kelamin.1 | Profesi.1 | Tipe.Residen.1 | cluster |\n",
       "|---|---|---|---|---|---|---|---|---|---|---|\n",
       "| CUST-001            | Budi Anggara        | Pria                | 58                  | Wiraswasta          | Sector              |  9.497927           | 1                   | 5                   | 2                   | 1                   |\n",
       "| CUST-002            | Shirley Ratuwati    | Wanita              | 14                  | Pelajar             | Cluster             |  2.722700           | 2                   | 3                   | 1                   | 3                   |\n",
       "| CUST-003            | Agus Cahyono        | Pria                | 48                  | Professional        | Cluster             |  5.286429           | 1                   | 4                   | 1                   | 5                   |\n",
       "| CUST-004            | Antonius Winarta    | Pria                | 53                  | Professional        | Cluster             |  5.204498           | 1                   | 4                   | 1                   | 5                   |\n",
       "| CUST-005            | Ibu Sri Wahyuni, IR | Wanita              | 41                  | Wiraswasta          | Cluster             | 10.615206           | 2                   | 5                   | 1                   | 4                   |\n",
       "| CUST-006            | Rosalina Kurnia     | Wanita              | 24                  | Professional        | Cluster             |  5.215541           | 2                   | 4                   | 1                   | 3                   |\n",
       "\n"
      ],
      "text/plain": [
       "  Customer_ID Nama.Pelanggan      Jenis.Kelamin Umur Profesi      Tipe.Residen\n",
       "1 CUST-001    Budi Anggara        Pria          58   Wiraswasta   Sector      \n",
       "2 CUST-002    Shirley Ratuwati    Wanita        14   Pelajar      Cluster     \n",
       "3 CUST-003    Agus Cahyono        Pria          48   Professional Cluster     \n",
       "4 CUST-004    Antonius Winarta    Pria          53   Professional Cluster     \n",
       "5 CUST-005    Ibu Sri Wahyuni, IR Wanita        41   Wiraswasta   Cluster     \n",
       "6 CUST-006    Rosalina Kurnia     Wanita        24   Professional Cluster     \n",
       "  NilaiBelanjaSetahun Jenis.Kelamin.1 Profesi.1 Tipe.Residen.1 cluster\n",
       "1  9.497927           1               5         2              1      \n",
       "2  2.722700           2               3         1              3      \n",
       "3  5.286429           1               4         1              5      \n",
       "4  5.204498           1               4         1              5      \n",
       "5 10.615206           2               5         1              4      \n",
       "6  5.215541           2               4         1              3      "
      ]
     },
     "metadata": {},
     "output_type": "display_data"
    },
    {
     "name": "stdout",
     "output_type": "stream",
     "text": [
      "'data.frame':\t50 obs. of  11 variables:\n",
      " $ Customer_ID        : Factor w/ 50 levels \"CUST-001\",\"CUST-002\",..: 1 2 3 4 5 6 7 8 9 10 ...\n",
      " $ Nama.Pelanggan     : Factor w/ 48 levels \"Adeline Huang\",..: 7 44 3 5 23 41 9 13 17 33 ...\n",
      " $ Jenis.Kelamin      : Factor w/ 2 levels \"Pria\",\"Wanita\": 1 2 1 1 2 2 1 1 2 1 ...\n",
      " $ Umur               : int  58 14 48 53 41 24 64 52 29 33 ...\n",
      " $ Profesi            : Factor w/ 5 levels \"Ibu Rumah Tangga\",..: 5 3 4 4 5 4 5 4 4 4 ...\n",
      " $ Tipe.Residen       : Factor w/ 2 levels \"Cluster\",\"Sector\": 2 1 1 1 1 1 2 1 2 1 ...\n",
      " $ NilaiBelanjaSetahun: num  9.5 2.72 5.29 5.2 10.62 ...\n",
      " $ Jenis.Kelamin.1    : int  1 2 1 1 2 2 1 1 2 1 ...\n",
      " $ Profesi.1          : int  5 3 4 4 5 4 5 4 4 4 ...\n",
      " $ Tipe.Residen.1     : int  2 1 1 1 1 1 2 1 2 1 ...\n",
      " $ cluster            : int  1 3 5 5 4 3 1 5 2 2 ...\n"
     ]
    },
    {
     "data": {
      "text/plain": [
       "K-means clustering with 5 clusters of sizes 5, 12, 14, 9, 10\n",
       "\n",
       "Cluster means:\n",
       "  Jenis.Kelamin.1     Umur Profesi.1 Tipe.Residen.1 NilaiBelanjaSetahun\n",
       "1            1.40 61.80000  4.200000       1.400000            8.696132\n",
       "2            1.75 31.58333  3.916667       1.250000            7.330958\n",
       "3            2.00 20.07143  3.571429       1.357143            5.901089\n",
       "4            2.00 42.33333  4.000000       1.555556            8.804791\n",
       "5            1.70 52.50000  3.800000       1.300000            6.018321\n",
       "\n",
       "Clustering vector:\n",
       " [1] 1 3 5 5 4 3 1 5 2 2 5 5 1 1 3 2 2 1 2 3 4 5 2 4 2 5 2 4 5 4 3 4 3 3 4 2 3 4\n",
       "[39] 3 3 3 2 2 3 3 3 5 4 2 5\n",
       "\n",
       "Within cluster sum of squares by cluster:\n",
       "[1]  58.21123 174.85164 316.73367 171.67372 108.49735\n",
       " (between_SS / total_SS =  92.4 %)\n",
       "\n",
       "Available components:\n",
       "\n",
       "[1] \"cluster\"      \"centers\"      \"totss\"        \"withinss\"     \"tot.withinss\"\n",
       "[6] \"betweenss\"    \"size\"         \"iter\"         \"ifault\"      "
      ]
     },
     "metadata": {},
     "output_type": "display_data"
    }
   ],
   "source": [
    "#Setelah kita mencoba hanya dengan variabel Profesi dan Umur,\n",
    "##sekarang bagaimana jadinya jika kita menggunakan lebih dari 2 variabel?\n",
    "field_yang_digunakan = c(\"Jenis.Kelamin.1\", \"Umur\", \"Profesi.1\", \"Tipe.Residen.1\", \"NilaiBelanjaSetahun\")\n",
    "set.seed(100)\n",
    "segmentasi <- kmeans(pelanggan[field_yang_digunakan], centers=5, nstart=25)\n",
    "#Lalu, gabungkan hasil clusternya\n",
    "pelanggan$cluster <- segmentasi$cluster\n",
    "#jangan lupa, periksa 6 data teratasnya berikut info datanya\n",
    "head(pelanggan)\n",
    "str(pelanggan)\n",
    "segmentasi"
   ]
  },
  {
   "cell_type": "code",
   "execution_count": 9,
   "metadata": {},
   "outputs": [
    {
     "data": {
      "text/html": [
       "<ol class=list-inline>\n",
       "\t<li>1</li>\n",
       "\t<li>7</li>\n",
       "\t<li>13</li>\n",
       "\t<li>14</li>\n",
       "\t<li>18</li>\n",
       "</ol>\n"
      ],
      "text/latex": [
       "\\begin{enumerate*}\n",
       "\\item 1\n",
       "\\item 7\n",
       "\\item 13\n",
       "\\item 14\n",
       "\\item 18\n",
       "\\end{enumerate*}\n"
      ],
      "text/markdown": [
       "1. 1\n",
       "2. 7\n",
       "3. 13\n",
       "4. 14\n",
       "5. 18\n",
       "\n",
       "\n"
      ],
      "text/plain": [
       "[1]  1  7 13 14 18"
      ]
     },
     "metadata": {},
     "output_type": "display_data"
    },
    {
     "data": {
      "text/html": [
       "<ol class=list-inline>\n",
       "\t<li>9</li>\n",
       "\t<li>10</li>\n",
       "\t<li>16</li>\n",
       "\t<li>17</li>\n",
       "\t<li>19</li>\n",
       "\t<li>23</li>\n",
       "\t<li>25</li>\n",
       "\t<li>27</li>\n",
       "\t<li>36</li>\n",
       "\t<li>42</li>\n",
       "\t<li>43</li>\n",
       "\t<li>49</li>\n",
       "</ol>\n"
      ],
      "text/latex": [
       "\\begin{enumerate*}\n",
       "\\item 9\n",
       "\\item 10\n",
       "\\item 16\n",
       "\\item 17\n",
       "\\item 19\n",
       "\\item 23\n",
       "\\item 25\n",
       "\\item 27\n",
       "\\item 36\n",
       "\\item 42\n",
       "\\item 43\n",
       "\\item 49\n",
       "\\end{enumerate*}\n"
      ],
      "text/markdown": [
       "1. 9\n",
       "2. 10\n",
       "3. 16\n",
       "4. 17\n",
       "5. 19\n",
       "6. 23\n",
       "7. 25\n",
       "8. 27\n",
       "9. 36\n",
       "10. 42\n",
       "11. 43\n",
       "12. 49\n",
       "\n",
       "\n"
      ],
      "text/plain": [
       " [1]  9 10 16 17 19 23 25 27 36 42 43 49"
      ]
     },
     "metadata": {},
     "output_type": "display_data"
    },
    {
     "data": {
      "text/html": [
       "<ol class=list-inline>\n",
       "\t<li>2</li>\n",
       "\t<li>6</li>\n",
       "\t<li>15</li>\n",
       "\t<li>20</li>\n",
       "\t<li>31</li>\n",
       "\t<li>33</li>\n",
       "\t<li>34</li>\n",
       "\t<li>37</li>\n",
       "\t<li>39</li>\n",
       "\t<li>40</li>\n",
       "\t<li>41</li>\n",
       "\t<li>44</li>\n",
       "\t<li>45</li>\n",
       "\t<li>46</li>\n",
       "</ol>\n"
      ],
      "text/latex": [
       "\\begin{enumerate*}\n",
       "\\item 2\n",
       "\\item 6\n",
       "\\item 15\n",
       "\\item 20\n",
       "\\item 31\n",
       "\\item 33\n",
       "\\item 34\n",
       "\\item 37\n",
       "\\item 39\n",
       "\\item 40\n",
       "\\item 41\n",
       "\\item 44\n",
       "\\item 45\n",
       "\\item 46\n",
       "\\end{enumerate*}\n"
      ],
      "text/markdown": [
       "1. 2\n",
       "2. 6\n",
       "3. 15\n",
       "4. 20\n",
       "5. 31\n",
       "6. 33\n",
       "7. 34\n",
       "8. 37\n",
       "9. 39\n",
       "10. 40\n",
       "11. 41\n",
       "12. 44\n",
       "13. 45\n",
       "14. 46\n",
       "\n",
       "\n"
      ],
      "text/plain": [
       " [1]  2  6 15 20 31 33 34 37 39 40 41 44 45 46"
      ]
     },
     "metadata": {},
     "output_type": "display_data"
    },
    {
     "data": {
      "text/html": [
       "<ol class=list-inline>\n",
       "\t<li>5</li>\n",
       "\t<li>21</li>\n",
       "\t<li>24</li>\n",
       "\t<li>28</li>\n",
       "\t<li>30</li>\n",
       "\t<li>32</li>\n",
       "\t<li>35</li>\n",
       "\t<li>38</li>\n",
       "\t<li>48</li>\n",
       "</ol>\n"
      ],
      "text/latex": [
       "\\begin{enumerate*}\n",
       "\\item 5\n",
       "\\item 21\n",
       "\\item 24\n",
       "\\item 28\n",
       "\\item 30\n",
       "\\item 32\n",
       "\\item 35\n",
       "\\item 38\n",
       "\\item 48\n",
       "\\end{enumerate*}\n"
      ],
      "text/markdown": [
       "1. 5\n",
       "2. 21\n",
       "3. 24\n",
       "4. 28\n",
       "5. 30\n",
       "6. 32\n",
       "7. 35\n",
       "8. 38\n",
       "9. 48\n",
       "\n",
       "\n"
      ],
      "text/plain": [
       "[1]  5 21 24 28 30 32 35 38 48"
      ]
     },
     "metadata": {},
     "output_type": "display_data"
    },
    {
     "data": {
      "text/html": [
       "<ol class=list-inline>\n",
       "\t<li>3</li>\n",
       "\t<li>4</li>\n",
       "\t<li>8</li>\n",
       "\t<li>11</li>\n",
       "\t<li>12</li>\n",
       "\t<li>22</li>\n",
       "\t<li>26</li>\n",
       "\t<li>29</li>\n",
       "\t<li>47</li>\n",
       "\t<li>50</li>\n",
       "</ol>\n"
      ],
      "text/latex": [
       "\\begin{enumerate*}\n",
       "\\item 3\n",
       "\\item 4\n",
       "\\item 8\n",
       "\\item 11\n",
       "\\item 12\n",
       "\\item 22\n",
       "\\item 26\n",
       "\\item 29\n",
       "\\item 47\n",
       "\\item 50\n",
       "\\end{enumerate*}\n"
      ],
      "text/markdown": [
       "1. 3\n",
       "2. 4\n",
       "3. 8\n",
       "4. 11\n",
       "5. 12\n",
       "6. 22\n",
       "7. 26\n",
       "8. 29\n",
       "9. 47\n",
       "10. 50\n",
       "\n",
       "\n"
      ],
      "text/plain": [
       " [1]  3  4  8 11 12 22 26 29 47 50"
      ]
     },
     "metadata": {},
     "output_type": "display_data"
    },
    {
     "data": {
      "text/html": [
       "5"
      ],
      "text/latex": [
       "5"
      ],
      "text/markdown": [
       "5"
      ],
      "text/plain": [
       "[1] 5"
      ]
     },
     "metadata": {},
     "output_type": "display_data"
    },
    {
     "data": {
      "text/html": [
       "12"
      ],
      "text/latex": [
       "12"
      ],
      "text/markdown": [
       "12"
      ],
      "text/plain": [
       "[1] 12"
      ]
     },
     "metadata": {},
     "output_type": "display_data"
    },
    {
     "data": {
      "text/html": [
       "14"
      ],
      "text/latex": [
       "14"
      ],
      "text/markdown": [
       "14"
      ],
      "text/plain": [
       "[1] 14"
      ]
     },
     "metadata": {},
     "output_type": "display_data"
    },
    {
     "data": {
      "text/html": [
       "9"
      ],
      "text/latex": [
       "9"
      ],
      "text/markdown": [
       "9"
      ],
      "text/plain": [
       "[1] 9"
      ]
     },
     "metadata": {},
     "output_type": "display_data"
    },
    {
     "data": {
      "text/html": [
       "10"
      ],
      "text/latex": [
       "10"
      ],
      "text/markdown": [
       "10"
      ],
      "text/plain": [
       "[1] 10"
      ]
     },
     "metadata": {},
     "output_type": "display_data"
    }
   ],
   "source": [
    "#Kita akan coba verifikasikan masuk cluster mana data-data yang sudah kita segmentasikan\n",
    "##dengan menggunakan fungsi which()\n",
    "which(pelanggan$cluster == 1)\n",
    "which(pelanggan$cluster == 2)\n",
    "which(pelanggan$cluster == 3)\n",
    "which(pelanggan$cluster == 4)\n",
    "which(pelanggan$cluster == 5)\n",
    "#Lalu, coba analisa jumlah dataset pada tiap cluster\n",
    "length(which(pelanggan$cluster == 1))\n",
    "length(which(pelanggan$cluster == 2))\n",
    "length(which(pelanggan$cluster == 3))\n",
    "length(which(pelanggan$cluster == 4))\n",
    "length(which(pelanggan$cluster == 5))"
   ]
  },
  {
   "cell_type": "code",
   "execution_count": 10,
   "metadata": {},
   "outputs": [
    {
     "data": {
      "text/html": [
       "<table>\n",
       "<thead><tr><th></th><th scope=col>Customer_ID</th><th scope=col>Nama.Pelanggan</th><th scope=col>Jenis.Kelamin</th><th scope=col>Umur</th><th scope=col>Profesi</th><th scope=col>Tipe.Residen</th><th scope=col>NilaiBelanjaSetahun</th><th scope=col>Jenis.Kelamin.1</th><th scope=col>Profesi.1</th><th scope=col>Tipe.Residen.1</th><th scope=col>cluster</th></tr></thead>\n",
       "<tbody>\n",
       "\t<tr><th scope=row>1</th><td>CUST-001        </td><td>Budi Anggara    </td><td>Pria            </td><td>58              </td><td>Wiraswasta      </td><td>Sector          </td><td>9.497927        </td><td>1               </td><td>5               </td><td>2               </td><td>1               </td></tr>\n",
       "\t<tr><th scope=row>7</th><td>CUST-007        </td><td>Cahyono, Agus   </td><td>Pria            </td><td>64              </td><td>Wiraswasta      </td><td>Sector          </td><td>9.837260        </td><td>1               </td><td>5               </td><td>2               </td><td>1               </td></tr>\n",
       "\t<tr><th scope=row>13</th><td>CUST-013        </td><td>Cahaya Putri    </td><td>Wanita          </td><td>64              </td><td>Wiraswasta      </td><td>Cluster         </td><td>9.333168        </td><td>2               </td><td>5               </td><td>1               </td><td>1               </td></tr>\n",
       "\t<tr><th scope=row>14</th><td>CUST-014        </td><td>Mario Setiawan  </td><td>Pria            </td><td>60              </td><td>Wiraswasta      </td><td>Cluster         </td><td>9.471615        </td><td>1               </td><td>5               </td><td>1               </td><td>1               </td></tr>\n",
       "\t<tr><th scope=row>18</th><td>CUST-018        </td><td>Nelly Halim     </td><td>Wanita          </td><td>63              </td><td>Ibu Rumah Tangga</td><td>Cluster         </td><td>5.340690        </td><td>2               </td><td>1               </td><td>1               </td><td>1               </td></tr>\n",
       "</tbody>\n",
       "</table>\n"
      ],
      "text/latex": [
       "\\begin{tabular}{r|lllllllllll}\n",
       "  & Customer\\_ID & Nama.Pelanggan & Jenis.Kelamin & Umur & Profesi & Tipe.Residen & NilaiBelanjaSetahun & Jenis.Kelamin.1 & Profesi.1 & Tipe.Residen.1 & cluster\\\\\n",
       "\\hline\n",
       "\t1 & CUST-001         & Budi Anggara     & Pria             & 58               & Wiraswasta       & Sector           & 9.497927         & 1                & 5                & 2                & 1               \\\\\n",
       "\t7 & CUST-007         & Cahyono, Agus    & Pria             & 64               & Wiraswasta       & Sector           & 9.837260         & 1                & 5                & 2                & 1               \\\\\n",
       "\t13 & CUST-013         & Cahaya Putri     & Wanita           & 64               & Wiraswasta       & Cluster          & 9.333168         & 2                & 5                & 1                & 1               \\\\\n",
       "\t14 & CUST-014         & Mario Setiawan   & Pria             & 60               & Wiraswasta       & Cluster          & 9.471615         & 1                & 5                & 1                & 1               \\\\\n",
       "\t18 & CUST-018         & Nelly Halim      & Wanita           & 63               & Ibu Rumah Tangga & Cluster          & 5.340690         & 2                & 1                & 1                & 1               \\\\\n",
       "\\end{tabular}\n"
      ],
      "text/markdown": [
       "\n",
       "| <!--/--> | Customer_ID | Nama.Pelanggan | Jenis.Kelamin | Umur | Profesi | Tipe.Residen | NilaiBelanjaSetahun | Jenis.Kelamin.1 | Profesi.1 | Tipe.Residen.1 | cluster |\n",
       "|---|---|---|---|---|---|---|---|---|---|---|---|\n",
       "| 1 | CUST-001         | Budi Anggara     | Pria             | 58               | Wiraswasta       | Sector           | 9.497927         | 1                | 5                | 2                | 1                |\n",
       "| 7 | CUST-007         | Cahyono, Agus    | Pria             | 64               | Wiraswasta       | Sector           | 9.837260         | 1                | 5                | 2                | 1                |\n",
       "| 13 | CUST-013         | Cahaya Putri     | Wanita           | 64               | Wiraswasta       | Cluster          | 9.333168         | 2                | 5                | 1                | 1                |\n",
       "| 14 | CUST-014         | Mario Setiawan   | Pria             | 60               | Wiraswasta       | Cluster          | 9.471615         | 1                | 5                | 1                | 1                |\n",
       "| 18 | CUST-018         | Nelly Halim      | Wanita           | 63               | Ibu Rumah Tangga | Cluster          | 5.340690         | 2                | 1                | 1                | 1                |\n",
       "\n"
      ],
      "text/plain": [
       "   Customer_ID Nama.Pelanggan Jenis.Kelamin Umur Profesi          Tipe.Residen\n",
       "1  CUST-001    Budi Anggara   Pria          58   Wiraswasta       Sector      \n",
       "7  CUST-007    Cahyono, Agus  Pria          64   Wiraswasta       Sector      \n",
       "13 CUST-013    Cahaya Putri   Wanita        64   Wiraswasta       Cluster     \n",
       "14 CUST-014    Mario Setiawan Pria          60   Wiraswasta       Cluster     \n",
       "18 CUST-018    Nelly Halim    Wanita        63   Ibu Rumah Tangga Cluster     \n",
       "   NilaiBelanjaSetahun Jenis.Kelamin.1 Profesi.1 Tipe.Residen.1 cluster\n",
       "1  9.497927            1               5         2              1      \n",
       "7  9.837260            1               5         2              1      \n",
       "13 9.333168            2               5         1              1      \n",
       "14 9.471615            1               5         1              1      \n",
       "18 5.340690            2               1         1              1      "
      ]
     },
     "metadata": {},
     "output_type": "display_data"
    },
    {
     "data": {
      "text/html": [
       "<table>\n",
       "<thead><tr><th></th><th scope=col>Customer_ID</th><th scope=col>Nama.Pelanggan</th><th scope=col>Jenis.Kelamin</th><th scope=col>Umur</th><th scope=col>Profesi</th><th scope=col>Tipe.Residen</th><th scope=col>NilaiBelanjaSetahun</th><th scope=col>Jenis.Kelamin.1</th><th scope=col>Profesi.1</th><th scope=col>Tipe.Residen.1</th><th scope=col>cluster</th></tr></thead>\n",
       "<tbody>\n",
       "\t<tr><th scope=row>9</th><td>CUST-009             </td><td>Elisabeth Suryadinata</td><td>Wanita               </td><td>29                   </td><td>Professional         </td><td>Sector               </td><td> 5.993218            </td><td>2                    </td><td>4                    </td><td>2                    </td><td>2                    </td></tr>\n",
       "\t<tr><th scope=row>10</th><td>CUST-010             </td><td>Mario Setiawan       </td><td>Pria                 </td><td>33                   </td><td>Professional         </td><td>Cluster              </td><td> 5.257448            </td><td>1                    </td><td>4                    </td><td>1                    </td><td>2                    </td></tr>\n",
       "\t<tr><th scope=row>16</th><td>CUST-016             </td><td>Bambang Rudi         </td><td>Pria                 </td><td>35                   </td><td>Professional         </td><td>Cluster              </td><td> 5.262521            </td><td>1                    </td><td>4                    </td><td>1                    </td><td>2                    </td></tr>\n",
       "\t<tr><th scope=row>17</th><td>CUST-017             </td><td>Yuni Sari            </td><td>Wanita               </td><td>32                   </td><td>Ibu Rumah Tangga     </td><td>Cluster              </td><td> 5.677762            </td><td>2                    </td><td>1                    </td><td>1                    </td><td>2                    </td></tr>\n",
       "\t<tr><th scope=row>19</th><td>CUST-019             </td><td>Mega Pranoto         </td><td>Wanita               </td><td>32                   </td><td>Wiraswasta           </td><td>Cluster              </td><td>10.884508            </td><td>2                    </td><td>5                    </td><td>1                    </td><td>2                    </td></tr>\n",
       "\t<tr><th scope=row>23</th><td>CUST-023             </td><td>Denny Amiruddin      </td><td>Pria                 </td><td>34                   </td><td>Professional         </td><td>Cluster              </td><td> 5.239290            </td><td>1                    </td><td>4                    </td><td>1                    </td><td>2                    </td></tr>\n",
       "\t<tr><th scope=row>25</th><td>CUST-025             </td><td>Julia Setiawan       </td><td>Wanita               </td><td>29                   </td><td>Wiraswasta           </td><td>Sector               </td><td>10.721998            </td><td>2                    </td><td>5                    </td><td>2                    </td><td>2                    </td></tr>\n",
       "\t<tr><th scope=row>27</th><td>CUST-027             </td><td>Grace Mulyati        </td><td>Wanita               </td><td>35                   </td><td>Wiraswasta           </td><td>Cluster              </td><td> 9.114159            </td><td>2                    </td><td>5                    </td><td>1                    </td><td>2                    </td></tr>\n",
       "\t<tr><th scope=row>36</th><td>CUST-036             </td><td>Ni Made Suasti       </td><td>Wanita               </td><td>30                   </td><td>Wiraswasta           </td><td>Cluster              </td><td> 9.678994            </td><td>2                    </td><td>5                    </td><td>1                    </td><td>2                    </td></tr>\n",
       "\t<tr><th scope=row>42</th><td>CUST-042             </td><td>Yuliana Wati         </td><td>Wanita               </td><td>26                   </td><td>Wiraswasta           </td><td>Cluster              </td><td> 9.880607            </td><td>2                    </td><td>5                    </td><td>1                    </td><td>2                    </td></tr>\n",
       "\t<tr><th scope=row>43</th><td>CUST-043             </td><td>Yenna Sumadi         </td><td>Wanita               </td><td>31                   </td><td>Professional         </td><td>Cluster              </td><td> 5.268410            </td><td>2                    </td><td>4                    </td><td>1                    </td><td>2                    </td></tr>\n",
       "\t<tr><th scope=row>49</th><td>CUST-049             </td><td>Josephine Wahab      </td><td>Wanita               </td><td>33                   </td><td>Ibu Rumah Tangga     </td><td>Sector               </td><td> 4.992585            </td><td>2                    </td><td>1                    </td><td>2                    </td><td>2                    </td></tr>\n",
       "</tbody>\n",
       "</table>\n"
      ],
      "text/latex": [
       "\\begin{tabular}{r|lllllllllll}\n",
       "  & Customer\\_ID & Nama.Pelanggan & Jenis.Kelamin & Umur & Profesi & Tipe.Residen & NilaiBelanjaSetahun & Jenis.Kelamin.1 & Profesi.1 & Tipe.Residen.1 & cluster\\\\\n",
       "\\hline\n",
       "\t9 & CUST-009              & Elisabeth Suryadinata & Wanita                & 29                    & Professional          & Sector                &  5.993218             & 2                     & 4                     & 2                     & 2                    \\\\\n",
       "\t10 & CUST-010              & Mario Setiawan        & Pria                  & 33                    & Professional          & Cluster               &  5.257448             & 1                     & 4                     & 1                     & 2                    \\\\\n",
       "\t16 & CUST-016              & Bambang Rudi          & Pria                  & 35                    & Professional          & Cluster               &  5.262521             & 1                     & 4                     & 1                     & 2                    \\\\\n",
       "\t17 & CUST-017              & Yuni Sari             & Wanita                & 32                    & Ibu Rumah Tangga      & Cluster               &  5.677762             & 2                     & 1                     & 1                     & 2                    \\\\\n",
       "\t19 & CUST-019              & Mega Pranoto          & Wanita                & 32                    & Wiraswasta            & Cluster               & 10.884508             & 2                     & 5                     & 1                     & 2                    \\\\\n",
       "\t23 & CUST-023              & Denny Amiruddin       & Pria                  & 34                    & Professional          & Cluster               &  5.239290             & 1                     & 4                     & 1                     & 2                    \\\\\n",
       "\t25 & CUST-025              & Julia Setiawan        & Wanita                & 29                    & Wiraswasta            & Sector                & 10.721998             & 2                     & 5                     & 2                     & 2                    \\\\\n",
       "\t27 & CUST-027              & Grace Mulyati         & Wanita                & 35                    & Wiraswasta            & Cluster               &  9.114159             & 2                     & 5                     & 1                     & 2                    \\\\\n",
       "\t36 & CUST-036              & Ni Made Suasti        & Wanita                & 30                    & Wiraswasta            & Cluster               &  9.678994             & 2                     & 5                     & 1                     & 2                    \\\\\n",
       "\t42 & CUST-042              & Yuliana Wati          & Wanita                & 26                    & Wiraswasta            & Cluster               &  9.880607             & 2                     & 5                     & 1                     & 2                    \\\\\n",
       "\t43 & CUST-043              & Yenna Sumadi          & Wanita                & 31                    & Professional          & Cluster               &  5.268410             & 2                     & 4                     & 1                     & 2                    \\\\\n",
       "\t49 & CUST-049              & Josephine Wahab       & Wanita                & 33                    & Ibu Rumah Tangga      & Sector                &  4.992585             & 2                     & 1                     & 2                     & 2                    \\\\\n",
       "\\end{tabular}\n"
      ],
      "text/markdown": [
       "\n",
       "| <!--/--> | Customer_ID | Nama.Pelanggan | Jenis.Kelamin | Umur | Profesi | Tipe.Residen | NilaiBelanjaSetahun | Jenis.Kelamin.1 | Profesi.1 | Tipe.Residen.1 | cluster |\n",
       "|---|---|---|---|---|---|---|---|---|---|---|---|\n",
       "| 9 | CUST-009              | Elisabeth Suryadinata | Wanita                | 29                    | Professional          | Sector                |  5.993218             | 2                     | 4                     | 2                     | 2                     |\n",
       "| 10 | CUST-010              | Mario Setiawan        | Pria                  | 33                    | Professional          | Cluster               |  5.257448             | 1                     | 4                     | 1                     | 2                     |\n",
       "| 16 | CUST-016              | Bambang Rudi          | Pria                  | 35                    | Professional          | Cluster               |  5.262521             | 1                     | 4                     | 1                     | 2                     |\n",
       "| 17 | CUST-017              | Yuni Sari             | Wanita                | 32                    | Ibu Rumah Tangga      | Cluster               |  5.677762             | 2                     | 1                     | 1                     | 2                     |\n",
       "| 19 | CUST-019              | Mega Pranoto          | Wanita                | 32                    | Wiraswasta            | Cluster               | 10.884508             | 2                     | 5                     | 1                     | 2                     |\n",
       "| 23 | CUST-023              | Denny Amiruddin       | Pria                  | 34                    | Professional          | Cluster               |  5.239290             | 1                     | 4                     | 1                     | 2                     |\n",
       "| 25 | CUST-025              | Julia Setiawan        | Wanita                | 29                    | Wiraswasta            | Sector                | 10.721998             | 2                     | 5                     | 2                     | 2                     |\n",
       "| 27 | CUST-027              | Grace Mulyati         | Wanita                | 35                    | Wiraswasta            | Cluster               |  9.114159             | 2                     | 5                     | 1                     | 2                     |\n",
       "| 36 | CUST-036              | Ni Made Suasti        | Wanita                | 30                    | Wiraswasta            | Cluster               |  9.678994             | 2                     | 5                     | 1                     | 2                     |\n",
       "| 42 | CUST-042              | Yuliana Wati          | Wanita                | 26                    | Wiraswasta            | Cluster               |  9.880607             | 2                     | 5                     | 1                     | 2                     |\n",
       "| 43 | CUST-043              | Yenna Sumadi          | Wanita                | 31                    | Professional          | Cluster               |  5.268410             | 2                     | 4                     | 1                     | 2                     |\n",
       "| 49 | CUST-049              | Josephine Wahab       | Wanita                | 33                    | Ibu Rumah Tangga      | Sector                |  4.992585             | 2                     | 1                     | 2                     | 2                     |\n",
       "\n"
      ],
      "text/plain": [
       "   Customer_ID Nama.Pelanggan        Jenis.Kelamin Umur Profesi         \n",
       "9  CUST-009    Elisabeth Suryadinata Wanita        29   Professional    \n",
       "10 CUST-010    Mario Setiawan        Pria          33   Professional    \n",
       "16 CUST-016    Bambang Rudi          Pria          35   Professional    \n",
       "17 CUST-017    Yuni Sari             Wanita        32   Ibu Rumah Tangga\n",
       "19 CUST-019    Mega Pranoto          Wanita        32   Wiraswasta      \n",
       "23 CUST-023    Denny Amiruddin       Pria          34   Professional    \n",
       "25 CUST-025    Julia Setiawan        Wanita        29   Wiraswasta      \n",
       "27 CUST-027    Grace Mulyati         Wanita        35   Wiraswasta      \n",
       "36 CUST-036    Ni Made Suasti        Wanita        30   Wiraswasta      \n",
       "42 CUST-042    Yuliana Wati          Wanita        26   Wiraswasta      \n",
       "43 CUST-043    Yenna Sumadi          Wanita        31   Professional    \n",
       "49 CUST-049    Josephine Wahab       Wanita        33   Ibu Rumah Tangga\n",
       "   Tipe.Residen NilaiBelanjaSetahun Jenis.Kelamin.1 Profesi.1 Tipe.Residen.1\n",
       "9  Sector        5.993218           2               4         2             \n",
       "10 Cluster       5.257448           1               4         1             \n",
       "16 Cluster       5.262521           1               4         1             \n",
       "17 Cluster       5.677762           2               1         1             \n",
       "19 Cluster      10.884508           2               5         1             \n",
       "23 Cluster       5.239290           1               4         1             \n",
       "25 Sector       10.721998           2               5         2             \n",
       "27 Cluster       9.114159           2               5         1             \n",
       "36 Cluster       9.678994           2               5         1             \n",
       "42 Cluster       9.880607           2               5         1             \n",
       "43 Cluster       5.268410           2               4         1             \n",
       "49 Sector        4.992585           2               1         2             \n",
       "   cluster\n",
       "9  2      \n",
       "10 2      \n",
       "16 2      \n",
       "17 2      \n",
       "19 2      \n",
       "23 2      \n",
       "25 2      \n",
       "27 2      \n",
       "36 2      \n",
       "42 2      \n",
       "43 2      \n",
       "49 2      "
      ]
     },
     "metadata": {},
     "output_type": "display_data"
    },
    {
     "data": {
      "text/html": [
       "<table>\n",
       "<thead><tr><th></th><th scope=col>Customer_ID</th><th scope=col>Nama.Pelanggan</th><th scope=col>Jenis.Kelamin</th><th scope=col>Umur</th><th scope=col>Profesi</th><th scope=col>Tipe.Residen</th><th scope=col>NilaiBelanjaSetahun</th><th scope=col>Jenis.Kelamin.1</th><th scope=col>Profesi.1</th><th scope=col>Tipe.Residen.1</th><th scope=col>cluster</th></tr></thead>\n",
       "<tbody>\n",
       "\t<tr><th scope=row>2</th><td>CUST-002        </td><td>Shirley Ratuwati</td><td>Wanita          </td><td>14              </td><td>Pelajar         </td><td>Cluster         </td><td> 2.722700       </td><td>2               </td><td>3               </td><td>1               </td><td>3               </td></tr>\n",
       "\t<tr><th scope=row>6</th><td>CUST-006        </td><td>Rosalina Kurnia </td><td>Wanita          </td><td>24              </td><td>Professional    </td><td>Cluster         </td><td> 5.215541       </td><td>2               </td><td>4               </td><td>1               </td><td>3               </td></tr>\n",
       "\t<tr><th scope=row>15</th><td>CUST-015        </td><td>Shirley Ratuwati</td><td>Wanita          </td><td>20              </td><td>Wiraswasta      </td><td>Cluster         </td><td>10.365668       </td><td>2               </td><td>5               </td><td>1               </td><td>3               </td></tr>\n",
       "\t<tr><th scope=row>20</th><td>CUST-020        </td><td>Irene Novianto  </td><td>Wanita          </td><td>16              </td><td>Pelajar         </td><td>Sector          </td><td> 2.896845       </td><td>2               </td><td>3               </td><td>2               </td><td>3               </td></tr>\n",
       "\t<tr><th scope=row>31</th><td>CUST-031        </td><td>Eviana Handry   </td><td>Wanita          </td><td>19              </td><td>Mahasiswa       </td><td>Cluster         </td><td> 3.042773       </td><td>2               </td><td>2               </td><td>1               </td><td>3               </td></tr>\n",
       "\t<tr><th scope=row>33</th><td>CUST-033        </td><td>Cecilia Kusnadi </td><td>Wanita          </td><td>19              </td><td>Mahasiswa       </td><td>Cluster         </td><td> 3.047926       </td><td>2               </td><td>2               </td><td>1               </td><td>3               </td></tr>\n",
       "\t<tr><th scope=row>34</th><td>CUST-034        </td><td>Deasy Arisandi  </td><td>Wanita          </td><td>21              </td><td>Wiraswasta      </td><td>Sector          </td><td> 9.759822       </td><td>2               </td><td>5               </td><td>2               </td><td>3               </td></tr>\n",
       "\t<tr><th scope=row>37</th><td>CUST-037        </td><td>Felicia Tandiono</td><td>Wanita          </td><td>25              </td><td>Professional    </td><td>Sector          </td><td> 5.972787       </td><td>2               </td><td>4               </td><td>2               </td><td>3               </td></tr>\n",
       "\t<tr><th scope=row>39</th><td>CUST-039        </td><td>Gina Hidayat    </td><td>Wanita          </td><td>20              </td><td>Professional    </td><td>Cluster         </td><td> 5.257775       </td><td>2               </td><td>4               </td><td>1               </td><td>3               </td></tr>\n",
       "\t<tr><th scope=row>40</th><td>CUST-040        </td><td>Irene Darmawan  </td><td>Wanita          </td><td>14              </td><td>Pelajar         </td><td>Sector          </td><td> 2.861855       </td><td>2               </td><td>3               </td><td>2               </td><td>3               </td></tr>\n",
       "\t<tr><th scope=row>41</th><td>CUST-041        </td><td>Shinta Aritonang</td><td>Wanita          </td><td>24              </td><td>Ibu Rumah Tangga</td><td>Cluster         </td><td> 6.820976       </td><td>2               </td><td>1               </td><td>1               </td><td>3               </td></tr>\n",
       "\t<tr><th scope=row>44</th><td>CUST-044        </td><td>Anna            </td><td>Wanita          </td><td>18              </td><td>Wiraswasta      </td><td>Cluster         </td><td> 9.339737       </td><td>2               </td><td>5               </td><td>1               </td><td>3               </td></tr>\n",
       "\t<tr><th scope=row>45</th><td>CUST-045        </td><td>Rismawati Juni  </td><td>Wanita          </td><td>22              </td><td>Professional    </td><td>Cluster         </td><td> 5.211041       </td><td>2               </td><td>4               </td><td>1               </td><td>3               </td></tr>\n",
       "\t<tr><th scope=row>46</th><td>CUST-046        </td><td>Elfira Surya    </td><td>Wanita          </td><td>25              </td><td>Wiraswasta      </td><td>Sector          </td><td>10.099807       </td><td>2               </td><td>5               </td><td>2               </td><td>3               </td></tr>\n",
       "</tbody>\n",
       "</table>\n"
      ],
      "text/latex": [
       "\\begin{tabular}{r|lllllllllll}\n",
       "  & Customer\\_ID & Nama.Pelanggan & Jenis.Kelamin & Umur & Profesi & Tipe.Residen & NilaiBelanjaSetahun & Jenis.Kelamin.1 & Profesi.1 & Tipe.Residen.1 & cluster\\\\\n",
       "\\hline\n",
       "\t2 & CUST-002         & Shirley Ratuwati & Wanita           & 14               & Pelajar          & Cluster          &  2.722700        & 2                & 3                & 1                & 3               \\\\\n",
       "\t6 & CUST-006         & Rosalina Kurnia  & Wanita           & 24               & Professional     & Cluster          &  5.215541        & 2                & 4                & 1                & 3               \\\\\n",
       "\t15 & CUST-015         & Shirley Ratuwati & Wanita           & 20               & Wiraswasta       & Cluster          & 10.365668        & 2                & 5                & 1                & 3               \\\\\n",
       "\t20 & CUST-020         & Irene Novianto   & Wanita           & 16               & Pelajar          & Sector           &  2.896845        & 2                & 3                & 2                & 3               \\\\\n",
       "\t31 & CUST-031         & Eviana Handry    & Wanita           & 19               & Mahasiswa        & Cluster          &  3.042773        & 2                & 2                & 1                & 3               \\\\\n",
       "\t33 & CUST-033         & Cecilia Kusnadi  & Wanita           & 19               & Mahasiswa        & Cluster          &  3.047926        & 2                & 2                & 1                & 3               \\\\\n",
       "\t34 & CUST-034         & Deasy Arisandi   & Wanita           & 21               & Wiraswasta       & Sector           &  9.759822        & 2                & 5                & 2                & 3               \\\\\n",
       "\t37 & CUST-037         & Felicia Tandiono & Wanita           & 25               & Professional     & Sector           &  5.972787        & 2                & 4                & 2                & 3               \\\\\n",
       "\t39 & CUST-039         & Gina Hidayat     & Wanita           & 20               & Professional     & Cluster          &  5.257775        & 2                & 4                & 1                & 3               \\\\\n",
       "\t40 & CUST-040         & Irene Darmawan   & Wanita           & 14               & Pelajar          & Sector           &  2.861855        & 2                & 3                & 2                & 3               \\\\\n",
       "\t41 & CUST-041         & Shinta Aritonang & Wanita           & 24               & Ibu Rumah Tangga & Cluster          &  6.820976        & 2                & 1                & 1                & 3               \\\\\n",
       "\t44 & CUST-044         & Anna             & Wanita           & 18               & Wiraswasta       & Cluster          &  9.339737        & 2                & 5                & 1                & 3               \\\\\n",
       "\t45 & CUST-045         & Rismawati Juni   & Wanita           & 22               & Professional     & Cluster          &  5.211041        & 2                & 4                & 1                & 3               \\\\\n",
       "\t46 & CUST-046         & Elfira Surya     & Wanita           & 25               & Wiraswasta       & Sector           & 10.099807        & 2                & 5                & 2                & 3               \\\\\n",
       "\\end{tabular}\n"
      ],
      "text/markdown": [
       "\n",
       "| <!--/--> | Customer_ID | Nama.Pelanggan | Jenis.Kelamin | Umur | Profesi | Tipe.Residen | NilaiBelanjaSetahun | Jenis.Kelamin.1 | Profesi.1 | Tipe.Residen.1 | cluster |\n",
       "|---|---|---|---|---|---|---|---|---|---|---|---|\n",
       "| 2 | CUST-002         | Shirley Ratuwati | Wanita           | 14               | Pelajar          | Cluster          |  2.722700        | 2                | 3                | 1                | 3                |\n",
       "| 6 | CUST-006         | Rosalina Kurnia  | Wanita           | 24               | Professional     | Cluster          |  5.215541        | 2                | 4                | 1                | 3                |\n",
       "| 15 | CUST-015         | Shirley Ratuwati | Wanita           | 20               | Wiraswasta       | Cluster          | 10.365668        | 2                | 5                | 1                | 3                |\n",
       "| 20 | CUST-020         | Irene Novianto   | Wanita           | 16               | Pelajar          | Sector           |  2.896845        | 2                | 3                | 2                | 3                |\n",
       "| 31 | CUST-031         | Eviana Handry    | Wanita           | 19               | Mahasiswa        | Cluster          |  3.042773        | 2                | 2                | 1                | 3                |\n",
       "| 33 | CUST-033         | Cecilia Kusnadi  | Wanita           | 19               | Mahasiswa        | Cluster          |  3.047926        | 2                | 2                | 1                | 3                |\n",
       "| 34 | CUST-034         | Deasy Arisandi   | Wanita           | 21               | Wiraswasta       | Sector           |  9.759822        | 2                | 5                | 2                | 3                |\n",
       "| 37 | CUST-037         | Felicia Tandiono | Wanita           | 25               | Professional     | Sector           |  5.972787        | 2                | 4                | 2                | 3                |\n",
       "| 39 | CUST-039         | Gina Hidayat     | Wanita           | 20               | Professional     | Cluster          |  5.257775        | 2                | 4                | 1                | 3                |\n",
       "| 40 | CUST-040         | Irene Darmawan   | Wanita           | 14               | Pelajar          | Sector           |  2.861855        | 2                | 3                | 2                | 3                |\n",
       "| 41 | CUST-041         | Shinta Aritonang | Wanita           | 24               | Ibu Rumah Tangga | Cluster          |  6.820976        | 2                | 1                | 1                | 3                |\n",
       "| 44 | CUST-044         | Anna             | Wanita           | 18               | Wiraswasta       | Cluster          |  9.339737        | 2                | 5                | 1                | 3                |\n",
       "| 45 | CUST-045         | Rismawati Juni   | Wanita           | 22               | Professional     | Cluster          |  5.211041        | 2                | 4                | 1                | 3                |\n",
       "| 46 | CUST-046         | Elfira Surya     | Wanita           | 25               | Wiraswasta       | Sector           | 10.099807        | 2                | 5                | 2                | 3                |\n",
       "\n"
      ],
      "text/plain": [
       "   Customer_ID Nama.Pelanggan   Jenis.Kelamin Umur Profesi         \n",
       "2  CUST-002    Shirley Ratuwati Wanita        14   Pelajar         \n",
       "6  CUST-006    Rosalina Kurnia  Wanita        24   Professional    \n",
       "15 CUST-015    Shirley Ratuwati Wanita        20   Wiraswasta      \n",
       "20 CUST-020    Irene Novianto   Wanita        16   Pelajar         \n",
       "31 CUST-031    Eviana Handry    Wanita        19   Mahasiswa       \n",
       "33 CUST-033    Cecilia Kusnadi  Wanita        19   Mahasiswa       \n",
       "34 CUST-034    Deasy Arisandi   Wanita        21   Wiraswasta      \n",
       "37 CUST-037    Felicia Tandiono Wanita        25   Professional    \n",
       "39 CUST-039    Gina Hidayat     Wanita        20   Professional    \n",
       "40 CUST-040    Irene Darmawan   Wanita        14   Pelajar         \n",
       "41 CUST-041    Shinta Aritonang Wanita        24   Ibu Rumah Tangga\n",
       "44 CUST-044    Anna             Wanita        18   Wiraswasta      \n",
       "45 CUST-045    Rismawati Juni   Wanita        22   Professional    \n",
       "46 CUST-046    Elfira Surya     Wanita        25   Wiraswasta      \n",
       "   Tipe.Residen NilaiBelanjaSetahun Jenis.Kelamin.1 Profesi.1 Tipe.Residen.1\n",
       "2  Cluster       2.722700           2               3         1             \n",
       "6  Cluster       5.215541           2               4         1             \n",
       "15 Cluster      10.365668           2               5         1             \n",
       "20 Sector        2.896845           2               3         2             \n",
       "31 Cluster       3.042773           2               2         1             \n",
       "33 Cluster       3.047926           2               2         1             \n",
       "34 Sector        9.759822           2               5         2             \n",
       "37 Sector        5.972787           2               4         2             \n",
       "39 Cluster       5.257775           2               4         1             \n",
       "40 Sector        2.861855           2               3         2             \n",
       "41 Cluster       6.820976           2               1         1             \n",
       "44 Cluster       9.339737           2               5         1             \n",
       "45 Cluster       5.211041           2               4         1             \n",
       "46 Sector       10.099807           2               5         2             \n",
       "   cluster\n",
       "2  3      \n",
       "6  3      \n",
       "15 3      \n",
       "20 3      \n",
       "31 3      \n",
       "33 3      \n",
       "34 3      \n",
       "37 3      \n",
       "39 3      \n",
       "40 3      \n",
       "41 3      \n",
       "44 3      \n",
       "45 3      \n",
       "46 3      "
      ]
     },
     "metadata": {},
     "output_type": "display_data"
    },
    {
     "data": {
      "text/html": [
       "<table>\n",
       "<thead><tr><th></th><th scope=col>Customer_ID</th><th scope=col>Nama.Pelanggan</th><th scope=col>Jenis.Kelamin</th><th scope=col>Umur</th><th scope=col>Profesi</th><th scope=col>Tipe.Residen</th><th scope=col>NilaiBelanjaSetahun</th><th scope=col>Jenis.Kelamin.1</th><th scope=col>Profesi.1</th><th scope=col>Tipe.Residen.1</th><th scope=col>cluster</th></tr></thead>\n",
       "<tbody>\n",
       "\t<tr><th scope=row>5</th><td>CUST-005           </td><td>Ibu Sri Wahyuni, IR</td><td>Wanita             </td><td>41                 </td><td>Wiraswasta         </td><td>Cluster            </td><td>10.615206          </td><td>2                  </td><td>5                  </td><td>1                  </td><td>4                  </td></tr>\n",
       "\t<tr><th scope=row>21</th><td>CUST-021           </td><td>Lestari Fabianto   </td><td>Wanita             </td><td>38                 </td><td>Wiraswasta         </td><td>Cluster            </td><td> 9.222070          </td><td>2                  </td><td>5                  </td><td>1                  </td><td>4                  </td></tr>\n",
       "\t<tr><th scope=row>24</th><td>CUST-024           </td><td>Putri Ginting      </td><td>Wanita             </td><td>39                 </td><td>Wiraswasta         </td><td>Cluster            </td><td>10.259572          </td><td>2                  </td><td>5                  </td><td>1                  </td><td>4                  </td></tr>\n",
       "\t<tr><th scope=row>28</th><td>CUST-028           </td><td>Adeline Huang      </td><td>Wanita             </td><td>40                 </td><td>Ibu Rumah Tangga   </td><td>Cluster            </td><td> 6.631680          </td><td>2                  </td><td>1                  </td><td>1                  </td><td>4                  </td></tr>\n",
       "\t<tr><th scope=row>30</th><td>CUST-030           </td><td>Rosita Saragih     </td><td>Wanita             </td><td>46                 </td><td>Ibu Rumah Tangga   </td><td>Sector             </td><td> 5.020976          </td><td>2                  </td><td>1                  </td><td>2                  </td><td>4                  </td></tr>\n",
       "\t<tr><th scope=row>32</th><td>CUST-032           </td><td>Chintya Winarni    </td><td>Wanita             </td><td>47                 </td><td>Wiraswasta         </td><td>Sector             </td><td>10.663179          </td><td>2                  </td><td>5                  </td><td>2                  </td><td>4                  </td></tr>\n",
       "\t<tr><th scope=row>35</th><td>CUST-035           </td><td>Ida Ayu            </td><td>Wanita             </td><td>39                 </td><td>Professional       </td><td>Sector             </td><td> 5.962575          </td><td>2                  </td><td>4                  </td><td>2                  </td><td>4                  </td></tr>\n",
       "\t<tr><th scope=row>38</th><td>CUST-038           </td><td>Agatha Salim       </td><td>Wanita             </td><td>46                 </td><td>Wiraswasta         </td><td>Sector             </td><td>10.477127          </td><td>2                  </td><td>5                  </td><td>2                  </td><td>4                  </td></tr>\n",
       "\t<tr><th scope=row>48</th><td>CUST-048           </td><td>Maria Hutagalung   </td><td>Wanita             </td><td>45                 </td><td>Wiraswasta         </td><td>Sector             </td><td>10.390732          </td><td>2                  </td><td>5                  </td><td>2                  </td><td>4                  </td></tr>\n",
       "</tbody>\n",
       "</table>\n"
      ],
      "text/latex": [
       "\\begin{tabular}{r|lllllllllll}\n",
       "  & Customer\\_ID & Nama.Pelanggan & Jenis.Kelamin & Umur & Profesi & Tipe.Residen & NilaiBelanjaSetahun & Jenis.Kelamin.1 & Profesi.1 & Tipe.Residen.1 & cluster\\\\\n",
       "\\hline\n",
       "\t5 & CUST-005            & Ibu Sri Wahyuni, IR & Wanita              & 41                  & Wiraswasta          & Cluster             & 10.615206           & 2                   & 5                   & 1                   & 4                  \\\\\n",
       "\t21 & CUST-021            & Lestari Fabianto    & Wanita              & 38                  & Wiraswasta          & Cluster             &  9.222070           & 2                   & 5                   & 1                   & 4                  \\\\\n",
       "\t24 & CUST-024            & Putri Ginting       & Wanita              & 39                  & Wiraswasta          & Cluster             & 10.259572           & 2                   & 5                   & 1                   & 4                  \\\\\n",
       "\t28 & CUST-028            & Adeline Huang       & Wanita              & 40                  & Ibu Rumah Tangga    & Cluster             &  6.631680           & 2                   & 1                   & 1                   & 4                  \\\\\n",
       "\t30 & CUST-030            & Rosita Saragih      & Wanita              & 46                  & Ibu Rumah Tangga    & Sector              &  5.020976           & 2                   & 1                   & 2                   & 4                  \\\\\n",
       "\t32 & CUST-032            & Chintya Winarni     & Wanita              & 47                  & Wiraswasta          & Sector              & 10.663179           & 2                   & 5                   & 2                   & 4                  \\\\\n",
       "\t35 & CUST-035            & Ida Ayu             & Wanita              & 39                  & Professional        & Sector              &  5.962575           & 2                   & 4                   & 2                   & 4                  \\\\\n",
       "\t38 & CUST-038            & Agatha Salim        & Wanita              & 46                  & Wiraswasta          & Sector              & 10.477127           & 2                   & 5                   & 2                   & 4                  \\\\\n",
       "\t48 & CUST-048            & Maria Hutagalung    & Wanita              & 45                  & Wiraswasta          & Sector              & 10.390732           & 2                   & 5                   & 2                   & 4                  \\\\\n",
       "\\end{tabular}\n"
      ],
      "text/markdown": [
       "\n",
       "| <!--/--> | Customer_ID | Nama.Pelanggan | Jenis.Kelamin | Umur | Profesi | Tipe.Residen | NilaiBelanjaSetahun | Jenis.Kelamin.1 | Profesi.1 | Tipe.Residen.1 | cluster |\n",
       "|---|---|---|---|---|---|---|---|---|---|---|---|\n",
       "| 5 | CUST-005            | Ibu Sri Wahyuni, IR | Wanita              | 41                  | Wiraswasta          | Cluster             | 10.615206           | 2                   | 5                   | 1                   | 4                   |\n",
       "| 21 | CUST-021            | Lestari Fabianto    | Wanita              | 38                  | Wiraswasta          | Cluster             |  9.222070           | 2                   | 5                   | 1                   | 4                   |\n",
       "| 24 | CUST-024            | Putri Ginting       | Wanita              | 39                  | Wiraswasta          | Cluster             | 10.259572           | 2                   | 5                   | 1                   | 4                   |\n",
       "| 28 | CUST-028            | Adeline Huang       | Wanita              | 40                  | Ibu Rumah Tangga    | Cluster             |  6.631680           | 2                   | 1                   | 1                   | 4                   |\n",
       "| 30 | CUST-030            | Rosita Saragih      | Wanita              | 46                  | Ibu Rumah Tangga    | Sector              |  5.020976           | 2                   | 1                   | 2                   | 4                   |\n",
       "| 32 | CUST-032            | Chintya Winarni     | Wanita              | 47                  | Wiraswasta          | Sector              | 10.663179           | 2                   | 5                   | 2                   | 4                   |\n",
       "| 35 | CUST-035            | Ida Ayu             | Wanita              | 39                  | Professional        | Sector              |  5.962575           | 2                   | 4                   | 2                   | 4                   |\n",
       "| 38 | CUST-038            | Agatha Salim        | Wanita              | 46                  | Wiraswasta          | Sector              | 10.477127           | 2                   | 5                   | 2                   | 4                   |\n",
       "| 48 | CUST-048            | Maria Hutagalung    | Wanita              | 45                  | Wiraswasta          | Sector              | 10.390732           | 2                   | 5                   | 2                   | 4                   |\n",
       "\n"
      ],
      "text/plain": [
       "   Customer_ID Nama.Pelanggan      Jenis.Kelamin Umur Profesi         \n",
       "5  CUST-005    Ibu Sri Wahyuni, IR Wanita        41   Wiraswasta      \n",
       "21 CUST-021    Lestari Fabianto    Wanita        38   Wiraswasta      \n",
       "24 CUST-024    Putri Ginting       Wanita        39   Wiraswasta      \n",
       "28 CUST-028    Adeline Huang       Wanita        40   Ibu Rumah Tangga\n",
       "30 CUST-030    Rosita Saragih      Wanita        46   Ibu Rumah Tangga\n",
       "32 CUST-032    Chintya Winarni     Wanita        47   Wiraswasta      \n",
       "35 CUST-035    Ida Ayu             Wanita        39   Professional    \n",
       "38 CUST-038    Agatha Salim        Wanita        46   Wiraswasta      \n",
       "48 CUST-048    Maria Hutagalung    Wanita        45   Wiraswasta      \n",
       "   Tipe.Residen NilaiBelanjaSetahun Jenis.Kelamin.1 Profesi.1 Tipe.Residen.1\n",
       "5  Cluster      10.615206           2               5         1             \n",
       "21 Cluster       9.222070           2               5         1             \n",
       "24 Cluster      10.259572           2               5         1             \n",
       "28 Cluster       6.631680           2               1         1             \n",
       "30 Sector        5.020976           2               1         2             \n",
       "32 Sector       10.663179           2               5         2             \n",
       "35 Sector        5.962575           2               4         2             \n",
       "38 Sector       10.477127           2               5         2             \n",
       "48 Sector       10.390732           2               5         2             \n",
       "   cluster\n",
       "5  4      \n",
       "21 4      \n",
       "24 4      \n",
       "28 4      \n",
       "30 4      \n",
       "32 4      \n",
       "35 4      \n",
       "38 4      \n",
       "48 4      "
      ]
     },
     "metadata": {},
     "output_type": "display_data"
    },
    {
     "data": {
      "text/html": [
       "<table>\n",
       "<thead><tr><th></th><th scope=col>Customer_ID</th><th scope=col>Nama.Pelanggan</th><th scope=col>Jenis.Kelamin</th><th scope=col>Umur</th><th scope=col>Profesi</th><th scope=col>Tipe.Residen</th><th scope=col>NilaiBelanjaSetahun</th><th scope=col>Jenis.Kelamin.1</th><th scope=col>Profesi.1</th><th scope=col>Tipe.Residen.1</th><th scope=col>cluster</th></tr></thead>\n",
       "<tbody>\n",
       "\t<tr><th scope=row>3</th><td>CUST-003         </td><td>Agus Cahyono     </td><td>Pria             </td><td>48               </td><td>Professional     </td><td>Cluster          </td><td> 5.286429        </td><td>1                </td><td>4                </td><td>1                </td><td>5                </td></tr>\n",
       "\t<tr><th scope=row>4</th><td>CUST-004         </td><td>Antonius Winarta </td><td>Pria             </td><td>53               </td><td>Professional     </td><td>Cluster          </td><td> 5.204498        </td><td>1                </td><td>4                </td><td>1                </td><td>5                </td></tr>\n",
       "\t<tr><th scope=row>8</th><td>CUST-008         </td><td>Danang Santosa   </td><td>Pria             </td><td>52               </td><td>Professional     </td><td>Cluster          </td><td> 5.223569        </td><td>1                </td><td>4                </td><td>1                </td><td>5                </td></tr>\n",
       "\t<tr><th scope=row>11</th><td>CUST-011         </td><td>Maria Suryawan   </td><td>Wanita           </td><td>50               </td><td>Professional     </td><td>Sector           </td><td> 5.987367        </td><td>2                </td><td>4                </td><td>2                </td><td>5                </td></tr>\n",
       "\t<tr><th scope=row>12</th><td>CUST-012         </td><td>Erliana Widjaja  </td><td>Wanita           </td><td>49               </td><td>Professional     </td><td>Sector           </td><td> 5.941914        </td><td>2                </td><td>4                </td><td>2                </td><td>5                </td></tr>\n",
       "\t<tr><th scope=row>22</th><td>CUST-022         </td><td>Novita Purba     </td><td>Wanita           </td><td>52               </td><td>Professional     </td><td>Cluster          </td><td> 5.298157        </td><td>2                </td><td>4                </td><td>1                </td><td>5                </td></tr>\n",
       "\t<tr><th scope=row>26</th><td>CUST-026         </td><td>Christine Winarto</td><td>Wanita           </td><td>55               </td><td>Professional     </td><td>Cluster          </td><td> 5.269392        </td><td>2                </td><td>4                </td><td>1                </td><td>5                </td></tr>\n",
       "\t<tr><th scope=row>29</th><td>CUST-029         </td><td>Tia Hartanti     </td><td>Wanita           </td><td>56               </td><td>Professional     </td><td>Cluster          </td><td> 5.271845        </td><td>2                </td><td>4                </td><td>1                </td><td>5                </td></tr>\n",
       "\t<tr><th scope=row>47</th><td>CUST-047         </td><td>Mira Kurnia      </td><td>Wanita           </td><td>55               </td><td>Ibu Rumah Tangga </td><td>Cluster          </td><td> 6.130724        </td><td>2                </td><td>1                </td><td>1                </td><td>5                </td></tr>\n",
       "\t<tr><th scope=row>50</th><td>CUST-050         </td><td>Lianna Nugraha   </td><td>Wanita           </td><td>55               </td><td>Wiraswasta       </td><td>Sector           </td><td>10.569316        </td><td>2                </td><td>5                </td><td>2                </td><td>5                </td></tr>\n",
       "</tbody>\n",
       "</table>\n"
      ],
      "text/latex": [
       "\\begin{tabular}{r|lllllllllll}\n",
       "  & Customer\\_ID & Nama.Pelanggan & Jenis.Kelamin & Umur & Profesi & Tipe.Residen & NilaiBelanjaSetahun & Jenis.Kelamin.1 & Profesi.1 & Tipe.Residen.1 & cluster\\\\\n",
       "\\hline\n",
       "\t3 & CUST-003          & Agus Cahyono      & Pria              & 48                & Professional      & Cluster           &  5.286429         & 1                 & 4                 & 1                 & 5                \\\\\n",
       "\t4 & CUST-004          & Antonius Winarta  & Pria              & 53                & Professional      & Cluster           &  5.204498         & 1                 & 4                 & 1                 & 5                \\\\\n",
       "\t8 & CUST-008          & Danang Santosa    & Pria              & 52                & Professional      & Cluster           &  5.223569         & 1                 & 4                 & 1                 & 5                \\\\\n",
       "\t11 & CUST-011          & Maria Suryawan    & Wanita            & 50                & Professional      & Sector            &  5.987367         & 2                 & 4                 & 2                 & 5                \\\\\n",
       "\t12 & CUST-012          & Erliana Widjaja   & Wanita            & 49                & Professional      & Sector            &  5.941914         & 2                 & 4                 & 2                 & 5                \\\\\n",
       "\t22 & CUST-022          & Novita Purba      & Wanita            & 52                & Professional      & Cluster           &  5.298157         & 2                 & 4                 & 1                 & 5                \\\\\n",
       "\t26 & CUST-026          & Christine Winarto & Wanita            & 55                & Professional      & Cluster           &  5.269392         & 2                 & 4                 & 1                 & 5                \\\\\n",
       "\t29 & CUST-029          & Tia Hartanti      & Wanita            & 56                & Professional      & Cluster           &  5.271845         & 2                 & 4                 & 1                 & 5                \\\\\n",
       "\t47 & CUST-047          & Mira Kurnia       & Wanita            & 55                & Ibu Rumah Tangga  & Cluster           &  6.130724         & 2                 & 1                 & 1                 & 5                \\\\\n",
       "\t50 & CUST-050          & Lianna Nugraha    & Wanita            & 55                & Wiraswasta        & Sector            & 10.569316         & 2                 & 5                 & 2                 & 5                \\\\\n",
       "\\end{tabular}\n"
      ],
      "text/markdown": [
       "\n",
       "| <!--/--> | Customer_ID | Nama.Pelanggan | Jenis.Kelamin | Umur | Profesi | Tipe.Residen | NilaiBelanjaSetahun | Jenis.Kelamin.1 | Profesi.1 | Tipe.Residen.1 | cluster |\n",
       "|---|---|---|---|---|---|---|---|---|---|---|---|\n",
       "| 3 | CUST-003          | Agus Cahyono      | Pria              | 48                | Professional      | Cluster           |  5.286429         | 1                 | 4                 | 1                 | 5                 |\n",
       "| 4 | CUST-004          | Antonius Winarta  | Pria              | 53                | Professional      | Cluster           |  5.204498         | 1                 | 4                 | 1                 | 5                 |\n",
       "| 8 | CUST-008          | Danang Santosa    | Pria              | 52                | Professional      | Cluster           |  5.223569         | 1                 | 4                 | 1                 | 5                 |\n",
       "| 11 | CUST-011          | Maria Suryawan    | Wanita            | 50                | Professional      | Sector            |  5.987367         | 2                 | 4                 | 2                 | 5                 |\n",
       "| 12 | CUST-012          | Erliana Widjaja   | Wanita            | 49                | Professional      | Sector            |  5.941914         | 2                 | 4                 | 2                 | 5                 |\n",
       "| 22 | CUST-022          | Novita Purba      | Wanita            | 52                | Professional      | Cluster           |  5.298157         | 2                 | 4                 | 1                 | 5                 |\n",
       "| 26 | CUST-026          | Christine Winarto | Wanita            | 55                | Professional      | Cluster           |  5.269392         | 2                 | 4                 | 1                 | 5                 |\n",
       "| 29 | CUST-029          | Tia Hartanti      | Wanita            | 56                | Professional      | Cluster           |  5.271845         | 2                 | 4                 | 1                 | 5                 |\n",
       "| 47 | CUST-047          | Mira Kurnia       | Wanita            | 55                | Ibu Rumah Tangga  | Cluster           |  6.130724         | 2                 | 1                 | 1                 | 5                 |\n",
       "| 50 | CUST-050          | Lianna Nugraha    | Wanita            | 55                | Wiraswasta        | Sector            | 10.569316         | 2                 | 5                 | 2                 | 5                 |\n",
       "\n"
      ],
      "text/plain": [
       "   Customer_ID Nama.Pelanggan    Jenis.Kelamin Umur Profesi         \n",
       "3  CUST-003    Agus Cahyono      Pria          48   Professional    \n",
       "4  CUST-004    Antonius Winarta  Pria          53   Professional    \n",
       "8  CUST-008    Danang Santosa    Pria          52   Professional    \n",
       "11 CUST-011    Maria Suryawan    Wanita        50   Professional    \n",
       "12 CUST-012    Erliana Widjaja   Wanita        49   Professional    \n",
       "22 CUST-022    Novita Purba      Wanita        52   Professional    \n",
       "26 CUST-026    Christine Winarto Wanita        55   Professional    \n",
       "29 CUST-029    Tia Hartanti      Wanita        56   Professional    \n",
       "47 CUST-047    Mira Kurnia       Wanita        55   Ibu Rumah Tangga\n",
       "50 CUST-050    Lianna Nugraha    Wanita        55   Wiraswasta      \n",
       "   Tipe.Residen NilaiBelanjaSetahun Jenis.Kelamin.1 Profesi.1 Tipe.Residen.1\n",
       "3  Cluster       5.286429           1               4         1             \n",
       "4  Cluster       5.204498           1               4         1             \n",
       "8  Cluster       5.223569           1               4         1             \n",
       "11 Sector        5.987367           2               4         2             \n",
       "12 Sector        5.941914           2               4         2             \n",
       "22 Cluster       5.298157           2               4         1             \n",
       "26 Cluster       5.269392           2               4         1             \n",
       "29 Cluster       5.271845           2               4         1             \n",
       "47 Cluster       6.130724           2               1         1             \n",
       "50 Sector       10.569316           2               5         2             \n",
       "   cluster\n",
       "3  5      \n",
       "4  5      \n",
       "8  5      \n",
       "11 5      \n",
       "12 5      \n",
       "22 5      \n",
       "26 5      \n",
       "29 5      \n",
       "47 5      \n",
       "50 5      "
      ]
     },
     "metadata": {},
     "output_type": "display_data"
    }
   ],
   "source": [
    "#Karena kita sudah mendapatkan clusternya\n",
    "##sekarang, kita akan mencoba untuk melihat data-data mana saja yang termasuk cluster 1-5\n",
    "pelanggan[which(pelanggan$cluster == 1),]\n",
    "pelanggan[which(pelanggan$cluster == 2),]\n",
    "pelanggan[which(pelanggan$cluster == 3),]\n",
    "pelanggan[which(pelanggan$cluster == 4),]\n",
    "pelanggan[which(pelanggan$cluster == 5),]"
   ]
  },
  {
   "cell_type": "code",
   "execution_count": 11,
   "metadata": {},
   "outputs": [
    {
     "data": {
      "text/html": [
       "<table>\n",
       "<thead><tr><th scope=col>Jenis.Kelamin.1</th><th scope=col>Umur</th><th scope=col>Profesi.1</th><th scope=col>Tipe.Residen.1</th><th scope=col>NilaiBelanjaSetahun</th></tr></thead>\n",
       "<tbody>\n",
       "\t<tr><td>1.40    </td><td>61.80000</td><td>4.200000</td><td>1.400000</td><td>8.696132</td></tr>\n",
       "\t<tr><td>1.75    </td><td>31.58333</td><td>3.916667</td><td>1.250000</td><td>7.330958</td></tr>\n",
       "\t<tr><td>2.00    </td><td>20.07143</td><td>3.571429</td><td>1.357143</td><td>5.901089</td></tr>\n",
       "\t<tr><td>2.00    </td><td>42.33333</td><td>4.000000</td><td>1.555556</td><td>8.804791</td></tr>\n",
       "\t<tr><td>1.70    </td><td>52.50000</td><td>3.800000</td><td>1.300000</td><td>6.018321</td></tr>\n",
       "</tbody>\n",
       "</table>\n"
      ],
      "text/latex": [
       "\\begin{tabular}{r|lllll}\n",
       " Jenis.Kelamin.1 & Umur & Profesi.1 & Tipe.Residen.1 & NilaiBelanjaSetahun\\\\\n",
       "\\hline\n",
       "\t 1.40     & 61.80000 & 4.200000 & 1.400000 & 8.696132\\\\\n",
       "\t 1.75     & 31.58333 & 3.916667 & 1.250000 & 7.330958\\\\\n",
       "\t 2.00     & 20.07143 & 3.571429 & 1.357143 & 5.901089\\\\\n",
       "\t 2.00     & 42.33333 & 4.000000 & 1.555556 & 8.804791\\\\\n",
       "\t 1.70     & 52.50000 & 3.800000 & 1.300000 & 6.018321\\\\\n",
       "\\end{tabular}\n"
      ],
      "text/markdown": [
       "\n",
       "| Jenis.Kelamin.1 | Umur | Profesi.1 | Tipe.Residen.1 | NilaiBelanjaSetahun |\n",
       "|---|---|---|---|---|\n",
       "| 1.40     | 61.80000 | 4.200000 | 1.400000 | 8.696132 |\n",
       "| 1.75     | 31.58333 | 3.916667 | 1.250000 | 7.330958 |\n",
       "| 2.00     | 20.07143 | 3.571429 | 1.357143 | 5.901089 |\n",
       "| 2.00     | 42.33333 | 4.000000 | 1.555556 | 8.804791 |\n",
       "| 1.70     | 52.50000 | 3.800000 | 1.300000 | 6.018321 |\n",
       "\n"
      ],
      "text/plain": [
       "  Jenis.Kelamin.1 Umur     Profesi.1 Tipe.Residen.1 NilaiBelanjaSetahun\n",
       "1 1.40            61.80000 4.200000  1.400000       8.696132           \n",
       "2 1.75            31.58333 3.916667  1.250000       7.330958           \n",
       "3 2.00            20.07143 3.571429  1.357143       5.901089           \n",
       "4 2.00            42.33333 4.000000  1.555556       8.804791           \n",
       "5 1.70            52.50000 3.800000  1.300000       6.018321           "
      ]
     },
     "metadata": {},
     "output_type": "display_data"
    }
   ],
   "source": [
    "#Lalu, kita coba analisa komponen centersnya\n",
    "segmentasi$centers"
   ]
  },
  {
   "cell_type": "code",
   "execution_count": 12,
   "metadata": {},
   "outputs": [
    {
     "data": {
      "text/plain": [
       "K-means clustering with 2 clusters of sizes 23, 27\n",
       "\n",
       "Cluster means:\n",
       "  Jenis.Kelamin.1     Umur Profesi.1 Tipe.Residen.1 NilaiBelanjaSetahun\n",
       "1        1.739130 51.17391  3.913043       1.434783            7.551518\n",
       "2        1.888889 25.85185  3.777778       1.296296            6.659586\n",
       "\n",
       "Clustering vector:\n",
       " [1] 1 2 1 1 1 2 1 1 2 2 1 1 1 1 2 2 2 1 2 2 2 1 2 1 2 1 2 1 1 1 2 1 2 2 1 2 2 1\n",
       "[39] 2 2 2 2 2 2 2 2 1 1 2 1\n",
       "\n",
       "Within cluster sum of squares by cluster:\n",
       "[1] 1492.481 1524.081\n",
       " (between_SS / total_SS =  72.6 %)\n",
       "\n",
       "Available components:\n",
       "\n",
       "[1] \"cluster\"      \"centers\"      \"totss\"        \"withinss\"     \"tot.withinss\"\n",
       "[6] \"betweenss\"    \"size\"         \"iter\"         \"ifault\"      "
      ]
     },
     "metadata": {},
     "output_type": "display_data"
    },
    {
     "data": {
      "text/plain": [
       "K-means clustering with 5 clusters of sizes 5, 12, 14, 9, 10\n",
       "\n",
       "Cluster means:\n",
       "  Jenis.Kelamin.1     Umur Profesi.1 Tipe.Residen.1 NilaiBelanjaSetahun\n",
       "1            1.40 61.80000  4.200000       1.400000            8.696132\n",
       "2            1.75 31.58333  3.916667       1.250000            7.330958\n",
       "3            2.00 20.07143  3.571429       1.357143            5.901089\n",
       "4            2.00 42.33333  4.000000       1.555556            8.804791\n",
       "5            1.70 52.50000  3.800000       1.300000            6.018321\n",
       "\n",
       "Clustering vector:\n",
       " [1] 1 3 5 5 4 3 1 5 2 2 5 5 1 1 3 2 2 1 2 3 4 5 2 4 2 5 2 4 5 4 3 4 3 3 4 2 3 4\n",
       "[39] 3 3 3 2 2 3 3 3 5 4 2 5\n",
       "\n",
       "Within cluster sum of squares by cluster:\n",
       "[1]  58.21123 174.85164 316.73367 171.67372 108.49735\n",
       " (between_SS / total_SS =  92.4 %)\n",
       "\n",
       "Available components:\n",
       "\n",
       "[1] \"cluster\"      \"centers\"      \"totss\"        \"withinss\"     \"tot.withinss\"\n",
       "[6] \"betweenss\"    \"size\"         \"iter\"         \"ifault\"      "
      ]
     },
     "metadata": {},
     "output_type": "display_data"
    }
   ],
   "source": [
    "#Setelah kita menggunakan analisa dengan 5 cluster,\n",
    "##lalu, bagaimana jadinya jika kita menggunakan 2 cluster?\n",
    "##jika gunakan 2 cluster\n",
    "set.seed(100)\n",
    "kmeans(x=pelanggan[field_yang_digunakan], centers=2, nstart=25)\n",
    "##jika gunakan 5 cluster\n",
    "set.seed(100)\n",
    "kmeans(x=pelanggan[field_yang_digunakan], centers=5, nstart=25)"
   ]
  },
  {
   "cell_type": "code",
   "execution_count": 13,
   "metadata": {},
   "outputs": [
    {
     "data": {
      "text/html": [
       "<ol class=list-inline>\n",
       "\t<li>58.211228098358</li>\n",
       "\t<li>174.851640331072</li>\n",
       "\t<li>316.733666810598</li>\n",
       "\t<li>171.673715890372</li>\n",
       "\t<li>108.497347873209</li>\n",
       "</ol>\n"
      ],
      "text/latex": [
       "\\begin{enumerate*}\n",
       "\\item 58.211228098358\n",
       "\\item 174.851640331072\n",
       "\\item 316.733666810598\n",
       "\\item 171.673715890372\n",
       "\\item 108.497347873209\n",
       "\\end{enumerate*}\n"
      ],
      "text/markdown": [
       "1. 58.211228098358\n",
       "2. 174.851640331072\n",
       "3. 316.733666810598\n",
       "4. 171.673715890372\n",
       "5. 108.497347873209\n",
       "\n",
       "\n"
      ],
      "text/plain": [
       "[1]  58.21123 174.85164 316.73367 171.67372 108.49735"
      ]
     },
     "metadata": {},
     "output_type": "display_data"
    },
    {
     "data": {
      "text/html": [
       "<ol class=list-inline>\n",
       "\t<li>1</li>\n",
       "\t<li>3</li>\n",
       "\t<li>5</li>\n",
       "\t<li>5</li>\n",
       "\t<li>4</li>\n",
       "\t<li>3</li>\n",
       "\t<li>1</li>\n",
       "\t<li>5</li>\n",
       "\t<li>2</li>\n",
       "\t<li>2</li>\n",
       "\t<li>5</li>\n",
       "\t<li>5</li>\n",
       "\t<li>1</li>\n",
       "\t<li>1</li>\n",
       "\t<li>3</li>\n",
       "\t<li>2</li>\n",
       "\t<li>2</li>\n",
       "\t<li>1</li>\n",
       "\t<li>2</li>\n",
       "\t<li>3</li>\n",
       "\t<li>4</li>\n",
       "\t<li>5</li>\n",
       "\t<li>2</li>\n",
       "\t<li>4</li>\n",
       "\t<li>2</li>\n",
       "\t<li>5</li>\n",
       "\t<li>2</li>\n",
       "\t<li>4</li>\n",
       "\t<li>5</li>\n",
       "\t<li>4</li>\n",
       "\t<li>3</li>\n",
       "\t<li>4</li>\n",
       "\t<li>3</li>\n",
       "\t<li>3</li>\n",
       "\t<li>4</li>\n",
       "\t<li>2</li>\n",
       "\t<li>3</li>\n",
       "\t<li>4</li>\n",
       "\t<li>3</li>\n",
       "\t<li>3</li>\n",
       "\t<li>3</li>\n",
       "\t<li>2</li>\n",
       "\t<li>2</li>\n",
       "\t<li>3</li>\n",
       "\t<li>3</li>\n",
       "\t<li>3</li>\n",
       "\t<li>5</li>\n",
       "\t<li>4</li>\n",
       "\t<li>2</li>\n",
       "\t<li>5</li>\n",
       "</ol>\n"
      ],
      "text/latex": [
       "\\begin{enumerate*}\n",
       "\\item 1\n",
       "\\item 3\n",
       "\\item 5\n",
       "\\item 5\n",
       "\\item 4\n",
       "\\item 3\n",
       "\\item 1\n",
       "\\item 5\n",
       "\\item 2\n",
       "\\item 2\n",
       "\\item 5\n",
       "\\item 5\n",
       "\\item 1\n",
       "\\item 1\n",
       "\\item 3\n",
       "\\item 2\n",
       "\\item 2\n",
       "\\item 1\n",
       "\\item 2\n",
       "\\item 3\n",
       "\\item 4\n",
       "\\item 5\n",
       "\\item 2\n",
       "\\item 4\n",
       "\\item 2\n",
       "\\item 5\n",
       "\\item 2\n",
       "\\item 4\n",
       "\\item 5\n",
       "\\item 4\n",
       "\\item 3\n",
       "\\item 4\n",
       "\\item 3\n",
       "\\item 3\n",
       "\\item 4\n",
       "\\item 2\n",
       "\\item 3\n",
       "\\item 4\n",
       "\\item 3\n",
       "\\item 3\n",
       "\\item 3\n",
       "\\item 2\n",
       "\\item 2\n",
       "\\item 3\n",
       "\\item 3\n",
       "\\item 3\n",
       "\\item 5\n",
       "\\item 4\n",
       "\\item 2\n",
       "\\item 5\n",
       "\\end{enumerate*}\n"
      ],
      "text/markdown": [
       "1. 1\n",
       "2. 3\n",
       "3. 5\n",
       "4. 5\n",
       "5. 4\n",
       "6. 3\n",
       "7. 1\n",
       "8. 5\n",
       "9. 2\n",
       "10. 2\n",
       "11. 5\n",
       "12. 5\n",
       "13. 1\n",
       "14. 1\n",
       "15. 3\n",
       "16. 2\n",
       "17. 2\n",
       "18. 1\n",
       "19. 2\n",
       "20. 3\n",
       "21. 4\n",
       "22. 5\n",
       "23. 2\n",
       "24. 4\n",
       "25. 2\n",
       "26. 5\n",
       "27. 2\n",
       "28. 4\n",
       "29. 5\n",
       "30. 4\n",
       "31. 3\n",
       "32. 4\n",
       "33. 3\n",
       "34. 3\n",
       "35. 4\n",
       "36. 2\n",
       "37. 3\n",
       "38. 4\n",
       "39. 3\n",
       "40. 3\n",
       "41. 3\n",
       "42. 2\n",
       "43. 2\n",
       "44. 3\n",
       "45. 3\n",
       "46. 3\n",
       "47. 5\n",
       "48. 4\n",
       "49. 2\n",
       "50. 5\n",
       "\n",
       "\n"
      ],
      "text/plain": [
       " [1] 1 3 5 5 4 3 1 5 2 2 5 5 1 1 3 2 2 1 2 3 4 5 2 4 2 5 2 4 5 4 3 4 3 3 4 2 3 4\n",
       "[39] 3 3 3 2 2 3 3 3 5 4 2 5"
      ]
     },
     "metadata": {},
     "output_type": "display_data"
    },
    {
     "data": {
      "text/html": [
       "829.967599003609"
      ],
      "text/latex": [
       "829.967599003609"
      ],
      "text/markdown": [
       "829.967599003609"
      ],
      "text/plain": [
       "[1] 829.9676"
      ]
     },
     "metadata": {},
     "output_type": "display_data"
    }
   ],
   "source": [
    "#Analisa terakhir kita, kita akan mencoba menganalisa dari nilai withinss, cluster, dan tot.withinss\n",
    "segmentasi$withinss\n",
    "segmentasi$cluster\n",
    "segmentasi$tot.withinss"
   ]
  },
  {
   "cell_type": "code",
   "execution_count": 14,
   "metadata": {},
   "outputs": [
    {
     "data": {
      "text/html": [
       "<ol class=list-inline>\n",
       "\t<li>10990.9740325902</li>\n",
       "\t<li>3016.56115098999</li>\n",
       "\t<li>1550.87245258579</li>\n",
       "\t<li>1064.4186744681</li>\n",
       "\t<li>829.967599003609</li>\n",
       "\t<li>625.146176215474</li>\n",
       "\t<li>508.156812409351</li>\n",
       "\t<li>431.697737230219</li>\n",
       "\t<li>374.109472124797</li>\n",
       "\t<li>317.942393960025</li>\n",
       "</ol>\n"
      ],
      "text/latex": [
       "\\begin{enumerate*}\n",
       "\\item 10990.9740325902\n",
       "\\item 3016.56115098999\n",
       "\\item 1550.87245258579\n",
       "\\item 1064.4186744681\n",
       "\\item 829.967599003609\n",
       "\\item 625.146176215474\n",
       "\\item 508.156812409351\n",
       "\\item 431.697737230219\n",
       "\\item 374.109472124797\n",
       "\\item 317.942393960025\n",
       "\\end{enumerate*}\n"
      ],
      "text/markdown": [
       "1. 10990.9740325902\n",
       "2. 3016.56115098999\n",
       "3. 1550.87245258579\n",
       "4. 1064.4186744681\n",
       "5. 829.967599003609\n",
       "6. 625.146176215474\n",
       "7. 508.156812409351\n",
       "8. 431.697737230219\n",
       "9. 374.109472124797\n",
       "10. 317.942393960025\n",
       "\n",
       "\n"
      ],
      "text/plain": [
       " [1] 10990.9740  3016.5612  1550.8725  1064.4187   829.9676   625.1462\n",
       " [7]   508.1568   431.6977   374.1095   317.9424"
      ]
     },
     "metadata": {},
     "output_type": "display_data"
    }
   ],
   "source": [
    "#selanjutnya, kita akan gunakan sapply\n",
    "##untuk mencari progressive nilai tot.withinss untuk tiap kombinasi jumlah cluster\n",
    "set.seed(100)\n",
    "sse <- sapply(1:10, function(param_k){kmeans(pelanggan[field_yang_digunakan], param_k, nstart = 25)$tot.withinss})\n",
    "sse"
   ]
  },
  {
   "cell_type": "code",
   "execution_count": 15,
   "metadata": {},
   "outputs": [
    {
     "name": "stderr",
     "output_type": "stream",
     "text": [
      "Warning message:\n",
      "\"package 'ggplot2' was built under R version 3.6.3\"Warning message:\n",
      "\"Continuous limits supplied to discrete scale.\n",
      "Did you mean `limits = factor(...)` or `scale_*_continuous()`?\""
     ]
    },
    {
     "data": {
      "image/png": "[encoded data removed]",
      "text/plain": [
       "plot without title"
      ]
     },
     "metadata": {},
     "output_type": "display_data"
    }
   ],
   "source": [
    "#supaya lebih jelas, kita akan gunakan grafik elbow effect\n",
    "##untuk menampilkan perbandingan antara nilai tot.withinss dan cluster\n",
    "##jangan lupa, sebelumnya import library ggplot2 dulu ya :)\n",
    "library(ggplot2)\n",
    "#Tateapkan jumlah_cluster_max = 10, lalu buat dataframe dari sse nya \n",
    "jumlah_cluster_max <- 10\n",
    "ssdata = data.frame(cluster=c(1:jumlah_cluster_max), sse)\n",
    "ggplot(ssdata, aes(x=cluster, y=sse)) +\n",
    "geom_line(color=\"red\") + geom_point() + ylab(\"Within Cluster Sum of Squares\") + xlab(\"Jumlah Cluster\") +\n",
    "geom_text(aes(label=format(round(sse, 2), nsmall = 2)), hjust = -0.2, vjust = -0.5) +\n",
    "scale_x_discrete(limits=c(1:jumlah_cluster_max))"
   ]
  },
  {
   "cell_type": "code",
   "execution_count": 16,
   "metadata": {},
   "outputs": [
    {
     "data": {
      "text/html": [
       "<table>\n",
       "<thead><tr><th scope=col>cluster</th><th scope=col>Nama.Segmen</th></tr></thead>\n",
       "<tbody>\n",
       "\t<tr><td>1                      </td><td>Diamond Senior Member  </td></tr>\n",
       "\t<tr><td>2                      </td><td>Gold Young Professional</td></tr>\n",
       "\t<tr><td>3                      </td><td>Silver Youth Gals      </td></tr>\n",
       "\t<tr><td>4                      </td><td>Diamond Professional   </td></tr>\n",
       "\t<tr><td>5                      </td><td>Silver Mid Professional</td></tr>\n",
       "</tbody>\n",
       "</table>\n"
      ],
      "text/latex": [
       "\\begin{tabular}{r|ll}\n",
       " cluster & Nama.Segmen\\\\\n",
       "\\hline\n",
       "\t 1                       & Diamond Senior Member  \\\\\n",
       "\t 2                       & Gold Young Professional\\\\\n",
       "\t 3                       & Silver Youth Gals      \\\\\n",
       "\t 4                       & Diamond Professional   \\\\\n",
       "\t 5                       & Silver Mid Professional\\\\\n",
       "\\end{tabular}\n"
      ],
      "text/markdown": [
       "\n",
       "| cluster | Nama.Segmen |\n",
       "|---|---|\n",
       "| 1                       | Diamond Senior Member   |\n",
       "| 2                       | Gold Young Professional |\n",
       "| 3                       | Silver Youth Gals       |\n",
       "| 4                       | Diamond Professional    |\n",
       "| 5                       | Silver Mid Professional |\n",
       "\n"
      ],
      "text/plain": [
       "  cluster Nama.Segmen            \n",
       "1 1       Diamond Senior Member  \n",
       "2 2       Gold Young Professional\n",
       "3 3       Silver Youth Gals      \n",
       "4 4       Diamond Professional   \n",
       "5 5       Silver Mid Professional"
      ]
     },
     "metadata": {},
     "output_type": "display_data"
    }
   ],
   "source": [
    "#setelah kita tahu jumlah cluster mana yang ideal yang bisa kita gunakan,\n",
    "##maka, sekarang kita akan mencoba menamakan cluster sesuai usia dan profesinya\n",
    "Segmen.Pelanggan <- data.frame(cluster = c(1, 2, 3, 4, 5),\n",
    "                               Nama.Segmen = c(\"Diamond Senior Member\", \"Gold Young Professional\",\n",
    "                                               \"Silver Youth Gals\", \"Diamond Professional\", \"Silver Mid Professional\"))\n",
    "Segmen.Pelanggan"
   ]
  },
  {
   "cell_type": "code",
   "execution_count": 23,
   "metadata": {},
   "outputs": [
    {
     "data": {
      "text/plain": [
       "$Profesi\n",
       "            Profesi Profesi.1\n",
       "1        Wiraswasta         5\n",
       "2           Pelajar         3\n",
       "3      Professional         4\n",
       "17 Ibu Rumah Tangga         1\n",
       "31        Mahasiswa         2\n",
       "\n",
       "$Jenis.Kelamin\n",
       "  Jenis.Kelamin Jenis.Kelamin.1\n",
       "1          Pria               1\n",
       "2        Wanita               2\n",
       "\n",
       "$Tipe.Residen\n",
       "  Tipe.Residen Tipe.Residen.1\n",
       "1       Sector              2\n",
       "2      Cluster              1\n",
       "\n",
       "$Segmentasi\n",
       "K-means clustering with 5 clusters of sizes 5, 12, 14, 9, 10\n",
       "\n",
       "Cluster means:\n",
       "  Jenis.Kelamin.1     Umur Profesi.1 Tipe.Residen.1 NilaiBelanjaSetahun\n",
       "1            1.40 61.80000  4.200000       1.400000            8.696132\n",
       "2            1.75 31.58333  3.916667       1.250000            7.330958\n",
       "3            2.00 20.07143  3.571429       1.357143            5.901089\n",
       "4            2.00 42.33333  4.000000       1.555556            8.804791\n",
       "5            1.70 52.50000  3.800000       1.300000            6.018321\n",
       "\n",
       "Clustering vector:\n",
       " [1] 1 3 5 5 4 3 1 5 2 2 5 5 1 1 3 2 2 1 2 3 4 5 2 4 2 5 2 4 5 4 3 4 3 3 4 2 3 4\n",
       "[39] 3 3 3 2 2 3 3 3 5 4 2 5\n",
       "\n",
       "Within cluster sum of squares by cluster:\n",
       "[1]  58.21123 174.85164 316.73367 171.67372 108.49735\n",
       " (between_SS / total_SS =  92.4 %)\n",
       "\n",
       "Available components:\n",
       "\n",
       "[1] \"cluster\"      \"centers\"      \"totss\"        \"withinss\"     \"tot.withinss\"\n",
       "[6] \"betweenss\"    \"size\"         \"iter\"         \"ifault\"      \n",
       "\n",
       "$Segmen.Pelanggan\n",
       "  cluster             Nama.Segmen\n",
       "1       1   Diamond Senior Member\n",
       "2       2 Gold Young Professional\n",
       "3       3       Silver Youth Gals\n",
       "4       4    Diamond Professional\n",
       "5       5 Silver Mid Professional\n",
       "\n",
       "$field_yang_digunakan\n",
       "[1] \"Jenis.Kelamin.1\"     \"Umur\"                \"Profesi.1\"          \n",
       "[4] \"Tipe.Residen.1\"      \"NilaiBelanjaSetahun\"\n"
      ]
     },
     "metadata": {},
     "output_type": "display_data"
    }
   ],
   "source": [
    "#Setelah itu, gabungkan seluruh aset ke dalam variable Identitas.Cluster\n",
    "Identitas.Cluster <- list(Profesi=Profesi,\n",
    "                          Jenis.Kelamin=Jenis.Kelamin, Tipe.Residen=Tipe.Residen,\n",
    "                          Segmentasi=segmentasi, Segmen.Pelanggan=Segmen.Pelanggan,\n",
    "                         field_yang_digunakan=field_yang_digunakan)\n",
    "Identitas.Cluster\n",
    "#Lalu, simpan hasilnya sebagai cluster.rds\n",
    "saveRDS(Identitas.Cluster, \"cluster.rds\")"
   ]
  },
  {
   "cell_type": "code",
   "execution_count": 17,
   "metadata": {},
   "outputs": [
    {
     "data": {
      "text/html": [
       "<table>\n",
       "<thead><tr><th scope=col>Customer_ID</th><th scope=col>Nama.Pelanggan</th><th scope=col>Umur</th><th scope=col>Jenis.Kelamin</th><th scope=col>Profesi</th><th scope=col>NilaiBelanjaSetahun</th></tr></thead>\n",
       "<tbody>\n",
       "\t<tr><td>CUST-210                      </td><td>Sharon Mickelie Claudya Cindra</td><td>22                            </td><td>Wanita                        </td><td>Wiraswasta                    </td><td>3.2                           </td></tr>\n",
       "</tbody>\n",
       "</table>\n"
      ],
      "text/latex": [
       "\\begin{tabular}{r|llllll}\n",
       " Customer\\_ID & Nama.Pelanggan & Umur & Jenis.Kelamin & Profesi & NilaiBelanjaSetahun\\\\\n",
       "\\hline\n",
       "\t CUST-210                       & Sharon Mickelie Claudya Cindra & 22                             & Wanita                         & Wiraswasta                     & 3.2                           \\\\\n",
       "\\end{tabular}\n"
      ],
      "text/markdown": [
       "\n",
       "| Customer_ID | Nama.Pelanggan | Umur | Jenis.Kelamin | Profesi | NilaiBelanjaSetahun |\n",
       "|---|---|---|---|---|---|\n",
       "| CUST-210                       | Sharon Mickelie Claudya Cindra | 22                             | Wanita                         | Wiraswasta                     | 3.2                            |\n",
       "\n"
      ],
      "text/plain": [
       "  Customer_ID Nama.Pelanggan                 Umur Jenis.Kelamin Profesi   \n",
       "1 CUST-210    Sharon Mickelie Claudya Cindra 22   Wanita        Wiraswasta\n",
       "  NilaiBelanjaSetahun\n",
       "1 3.2                "
      ]
     },
     "metadata": {},
     "output_type": "display_data"
    }
   ],
   "source": [
    "#Lalu, kita coba buat data baru yang akan kita identifikasi clusternya\n",
    "databaru <- data.frame(Customer_ID = \"CUST-210\", Nama.Pelanggan = \"Sharon Mickelie Claudya Cindra\",\n",
    "                       Umur = 22, Jenis.Kelamin = \"Wanita\", Profesi = \"Wiraswasta\",\n",
    "                      NilaiBelanjaSetahun = 3.2)\n",
    "databaru"
   ]
  },
  {
   "cell_type": "code",
   "execution_count": null,
   "metadata": {},
   "outputs": [],
   "source": []
  },
  {
   "cell_type": "code",
   "execution_count": 18,
   "metadata": {},
   "outputs": [
    {
     "data": {
      "text/plain": [
       "$Profesi\n",
       "            Profesi Profesi.1\n",
       "1        Wiraswasta         5\n",
       "2           Pelajar         3\n",
       "3      Professional         4\n",
       "17 Ibu Rumah Tangga         1\n",
       "31        Mahasiswa         2\n",
       "\n",
       "$Jenis.Kelamin\n",
       "  Jenis.Kelamin Jenis.Kelamin.1\n",
       "1          Pria               1\n",
       "2        Wanita               2\n",
       "\n",
       "$Tipe.Residen\n",
       "  Tipe.Residen Tipe.Residen.1\n",
       "1       Sector              2\n",
       "2      Cluster              1\n",
       "\n",
       "$Segmentasi\n",
       "K-means clustering with 5 clusters of sizes 5, 12, 14, 9, 10\n",
       "\n",
       "Cluster means:\n",
       "  Jenis.Kelamin.1     Umur Profesi.1 Tipe.Residen.1 NilaiBelanjaSetahun\n",
       "1            1.40 61.80000  4.200000       1.400000            8.696132\n",
       "2            1.75 31.58333  3.916667       1.250000            7.330958\n",
       "3            2.00 20.07143  3.571429       1.357143            5.901089\n",
       "4            2.00 42.33333  4.000000       1.555556            8.804791\n",
       "5            1.70 52.50000  3.800000       1.300000            6.018321\n",
       "\n",
       "Clustering vector:\n",
       " [1] 1 3 5 5 4 3 1 5 2 2 5 5 1 1 3 2 2 1 2 3 4 5 2 4 2 5 2 4 5 4 3 4 3 3 4 2 3 4\n",
       "[39] 3 3 3 2 2 3 3 3 5 4 2 5\n",
       "\n",
       "Within cluster sum of squares by cluster:\n",
       "[1]  58.21123 174.85164 316.73367 171.67372 108.49735\n",
       " (between_SS / total_SS =  92.4 %)\n",
       "\n",
       "Available components:\n",
       "\n",
       "[1] \"cluster\"      \"centers\"      \"totss\"        \"withinss\"     \"tot.withinss\"\n",
       "[6] \"betweenss\"    \"size\"         \"iter\"         \"ifault\"      \n",
       "\n",
       "$Segmen.Pelanggan\n",
       "  cluster             Nama.Segmen\n",
       "1       1   Diamond Senior Member\n",
       "2       2 Gold Young Professional\n",
       "3       3       Silver Youth Gals\n",
       "4       4    Diamond Professional\n",
       "5       5 Silver Mid Professional\n",
       "\n",
       "$field_yang_digunakan\n",
       "[1] \"Jenis.Kelamin.1\"     \"Umur\"                \"Profesi.1\"          \n",
       "[4] \"Tipe.Residen.1\"      \"NilaiBelanjaSetahun\"\n"
      ]
     },
     "metadata": {},
     "output_type": "display_data"
    }
   ],
   "source": [
    "#Lakukan pembacaan data cluster.rds\n",
    "Identitas.Cluster <- readRDS(file = \"cluster.rds\")\n",
    "Identitas.Cluster"
   ]
  },
  {
   "cell_type": "code",
   "execution_count": 20,
   "metadata": {},
   "outputs": [
    {
     "data": {
      "text/html": [
       "<table>\n",
       "<thead><tr><th scope=col>Tipe.Residen</th><th scope=col>Tipe.Residen.1</th><th scope=col>Jenis.Kelamin</th><th scope=col>Jenis.Kelamin.1</th><th scope=col>Profesi</th><th scope=col>Profesi.1</th><th scope=col>Customer_ID</th><th scope=col>Nama.Pelanggan</th><th scope=col>Umur</th><th scope=col>NilaiBelanjaSetahun</th></tr></thead>\n",
       "<tbody>\n",
       "\t<tr><td>Cluster                       </td><td>1                             </td><td>Wanita                        </td><td>2                             </td><td>Wiraswasta                    </td><td>5                             </td><td>CUST-210                      </td><td>Sharon Mickelie Claudya Cindra</td><td>22                            </td><td>3.2                           </td></tr>\n",
       "\t<tr><td>Sector                        </td><td>2                             </td><td>Wanita                        </td><td>2                             </td><td>Wiraswasta                    </td><td>5                             </td><td>CUST-210                      </td><td>Sharon Mickelie Claudya Cindra</td><td>22                            </td><td>3.2                           </td></tr>\n",
       "</tbody>\n",
       "</table>\n"
      ],
      "text/latex": [
       "\\begin{tabular}{r|llllllllll}\n",
       " Tipe.Residen & Tipe.Residen.1 & Jenis.Kelamin & Jenis.Kelamin.1 & Profesi & Profesi.1 & Customer\\_ID & Nama.Pelanggan & Umur & NilaiBelanjaSetahun\\\\\n",
       "\\hline\n",
       "\t Cluster                        & 1                              & Wanita                         & 2                              & Wiraswasta                     & 5                              & CUST-210                       & Sharon Mickelie Claudya Cindra & 22                             & 3.2                           \\\\\n",
       "\t Sector                         & 2                              & Wanita                         & 2                              & Wiraswasta                     & 5                              & CUST-210                       & Sharon Mickelie Claudya Cindra & 22                             & 3.2                           \\\\\n",
       "\\end{tabular}\n"
      ],
      "text/markdown": [
       "\n",
       "| Tipe.Residen | Tipe.Residen.1 | Jenis.Kelamin | Jenis.Kelamin.1 | Profesi | Profesi.1 | Customer_ID | Nama.Pelanggan | Umur | NilaiBelanjaSetahun |\n",
       "|---|---|---|---|---|---|---|---|---|---|\n",
       "| Cluster                        | 1                              | Wanita                         | 2                              | Wiraswasta                     | 5                              | CUST-210                       | Sharon Mickelie Claudya Cindra | 22                             | 3.2                            |\n",
       "| Sector                         | 2                              | Wanita                         | 2                              | Wiraswasta                     | 5                              | CUST-210                       | Sharon Mickelie Claudya Cindra | 22                             | 3.2                            |\n",
       "\n"
      ],
      "text/plain": [
       "  Tipe.Residen Tipe.Residen.1 Jenis.Kelamin Jenis.Kelamin.1 Profesi   \n",
       "1 Cluster      1              Wanita        2               Wiraswasta\n",
       "2 Sector       2              Wanita        2               Wiraswasta\n",
       "  Profesi.1 Customer_ID Nama.Pelanggan                 Umur NilaiBelanjaSetahun\n",
       "1 5         CUST-210    Sharon Mickelie Claudya Cindra 22   3.2                \n",
       "2 5         CUST-210    Sharon Mickelie Claudya Cindra 22   3.2                "
      ]
     },
     "metadata": {},
     "output_type": "display_data"
    }
   ],
   "source": [
    "#Setelah melakukan pembacaan terhadap cluster.rds, sekarang saatnya kita akan lakukan penggabungan\n",
    "##antara databaru dengan kolom-kolom kategorik yang sudah ditrasnformasi jadi numerik\n",
    "databaru <- merge(databaru, Identitas.Cluster$Profesi)\n",
    "databaru <- merge(databaru, Identitas.Cluster$Jenis.Kelamin)\n",
    "databaru <- merge(databaru, Identitas.Cluster$Tipe.Residen)\n",
    "#setelah itu, lakukan pembacaan terhadap data yang sudah digabungkan\n",
    "databaru"
   ]
  },
  {
   "cell_type": "code",
   "execution_count": 21,
   "metadata": {},
   "outputs": [
    {
     "data": {
      "text/html": [
       "<table>\n",
       "<thead><tr><th></th><th scope=col>cluster</th><th scope=col>Nama.Segmen</th></tr></thead>\n",
       "<tbody>\n",
       "\t<tr><th scope=row>3</th><td>3                </td><td>Silver Youth Gals</td></tr>\n",
       "</tbody>\n",
       "</table>\n"
      ],
      "text/latex": [
       "\\begin{tabular}{r|ll}\n",
       "  & cluster & Nama.Segmen\\\\\n",
       "\\hline\n",
       "\t3 & 3                 & Silver Youth Gals\\\\\n",
       "\\end{tabular}\n"
      ],
      "text/markdown": [
       "\n",
       "| <!--/--> | cluster | Nama.Segmen |\n",
       "|---|---|---|\n",
       "| 3 | 3                 | Silver Youth Gals |\n",
       "\n"
      ],
      "text/plain": [
       "  cluster Nama.Segmen      \n",
       "3 3       Silver Youth Gals"
      ]
     },
     "metadata": {},
     "output_type": "display_data"
    }
   ],
   "source": [
    "#Langkah terakhir, kita akan lakukan hal yang paling menentukan dalam bisnis,\n",
    "##yaitu menentukan cluster dari data baru yang sudah dibuat :)\n",
    "Identitas.Cluster$Segmen.Pelanggan[which.min(sapply(1:5, function(x) sum((databaru[Identitas.Cluster$field_yang_digunakan] -\n",
    "                                                                          Identitas.Cluster$Segmentasi$centers[x,])^2))),]"
   ]
  }
 ],
 "metadata": {
  "kernelspec": {
   "display_name": "R",
   "language": "R",
   "name": "ir"
  },
  "language_info": {
   "codemirror_mode": "r",
   "file_extension": ".r",
   "mimetype": "text/x-r-source",
   "name": "R",
   "pygments_lexer": "r",
   "version": "3.6.1"
  }
 },
 "nbformat": 4,
 "nbformat_minor": 2
}
